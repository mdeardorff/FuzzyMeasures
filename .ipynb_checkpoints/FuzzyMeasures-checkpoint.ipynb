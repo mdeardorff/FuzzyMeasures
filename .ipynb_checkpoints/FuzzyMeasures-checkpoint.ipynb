{
 "cells": [
  {
   "cell_type": "code",
   "execution_count": 1,
   "metadata": {},
   "outputs": [],
   "source": [
    "from choquet_integral import *\n",
    "import numpy as np\n",
    "import cv2\n",
    "import itertools\n",
    "import math\n",
    "import inspect\n",
    "import matplotlib.pyplot as plt\n",
    "import csv\n",
    "import sklearn.metrics as metrics\n",
    "from scipy.stats import entropy\n",
    "import random\n",
    "import xai_indices as xai\n",
    "import pyemd"
   ]
  },
  {
   "cell_type": "code",
   "execution_count": 2,
   "metadata": {},
   "outputs": [],
   "source": [
    "from sklearn import datasets\n",
    "from emd_clustertend import vat, ivat\n",
    "from sklearn.preprocessing import scale"
   ]
  },
  {
   "cell_type": "code",
   "execution_count": 43,
   "metadata": {},
   "outputs": [
    {
     "name": "stdout",
     "output_type": "stream",
     "text": [
      "Number Inputs :  5 ; Number Samples :  200\n",
      "     pcost       dcost       gap    pres   dres\n",
      " 0: -5.6225e+01 -6.6130e+01  2e+02  1e+01  4e-01\n",
      " 1: -5.2713e+01 -7.5187e+01  5e+01  2e+00  8e-02\n",
      " 2: -5.4084e+01 -6.0671e+01  7e+00  2e-02  8e-04\n",
      " 3: -5.5197e+01 -5.6998e+01  2e+00  4e-03  1e-04\n",
      " 4: -5.5613e+01 -5.6140e+01  5e-01  9e-04  3e-05\n",
      " 5: -5.5711e+01 -5.5958e+01  2e-01  2e-04  5e-06\n",
      " 6: -5.5777e+01 -5.5801e+01  2e-02  1e-05  4e-07\n",
      " 7: -5.5785e+01 -5.5786e+01  1e-03  4e-07  2e-08\n",
      " 8: -5.5785e+01 -5.5785e+01  2e-05  7e-09  2e-10\n",
      "Optimal solution found.\n"
     ]
    },
    {
     "data": {
      "text/plain": [
       "{'[1]': 0.41997708145511864,\n",
       " '[2]': 0.3101830104220665,\n",
       " '[3]': 0.09800612781171715,\n",
       " '[4]': 0.37182608314106563,\n",
       " '[5]': 0.09800610867473264,\n",
       " '[1 2]': 0.506318193787473,\n",
       " '[1 3]': 0.5063188793195713,\n",
       " '[1 4]': 0.41997726307861954,\n",
       " '[1 5]': 0.4200544870650831,\n",
       " '[2 3]': 0.5063157243033712,\n",
       " '[2 4]': 0.3718280003918026,\n",
       " '[2 5]': 0.520465638253474,\n",
       " '[3 4]': 0.3718271192881052,\n",
       " '[3 5]': 0.09800631816298974,\n",
       " '[4 5]': 0.37182745810484585,\n",
       " '[1 2 3]': 0.5063190665989095,\n",
       " '[1 2 4]': 0.5063189787969761,\n",
       " '[1 2 5]': 0.5204673682932369,\n",
       " '[1 3 4]': 0.5063191165745677,\n",
       " '[1 3 5]': 0.5204614508544023,\n",
       " '[1 4 5]': 0.42005461568445507,\n",
       " '[2 3 4]': 0.5063161241630002,\n",
       " '[2 3 5]': 0.5204658534670338,\n",
       " '[2 4 5]': 0.5204660816726793,\n",
       " '[3 4 5]': 0.879812877011753,\n",
       " '[1 2 3 4]': 0.5063192699903525,\n",
       " '[1 2 3 5]': 0.5204677833526837,\n",
       " '[1 2 4 5]': 0.6822868164224443,\n",
       " '[1 3 4 5]': 0.8798152429670189,\n",
       " '[2 3 4 5]': 0.9999996134672017,\n",
       " '[1 2 3 4 5]': 1.0}"
      ]
     },
     "execution_count": 43,
     "metadata": {},
     "output_type": "execute_result"
    }
   ],
   "source": [
    "chi = ChoquetIntegral()\n",
    "\n",
    "data = np.random.rand(5, 100)\n",
    "labels = np.amax(data, 0)\n",
    "data2 = data[::-1,:]\n",
    "labels2 = np.amin(data2,0)\n",
    "\n",
    "data = np.concatenate((data,data2),axis=1)\n",
    "labels = np.concatenate((labels,labels2))\n",
    "\n",
    "# train the chi via quadratic program \n",
    "chi.train_chi(data, labels)\n",
    "\n",
    "# print out the learned chi variables. (in this case, all 1's) \n",
    "chi.fm"
   ]
  },
  {
   "cell_type": "code",
   "execution_count": 39,
   "metadata": {},
   "outputs": [
    {
     "name": "stdout",
     "output_type": "stream",
     "text": [
      "{'[1]': 0.9, '[2]': 0, '[3]': 0, '[4]': 0, '[1 2]': 0.9, '[1 3]': 0.9, '[1 4]': 0.9, '[2 3]': 0, '[2 4]': 0, '[3 4]': 0, '[1 2 3]': 0.9, '[1 2 4]': 0.9, '[1 3 4]': 0.9, '[2 3 4]': 0, '[1 2 3 4]': 1}\n"
     ]
    }
   ],
   "source": [
    "custom = ChoquetIntegral()\n",
    "custom.N = 4\n",
    "customfm = {}\n",
    "customfm[str(np.asarray([1]))] = .9\n",
    "customfm[str(np.asarray([2]))] = 0\n",
    "customfm[str(np.asarray([3]))] = 0\n",
    "customfm[str(np.asarray([4]))] = 0\n",
    "customfm[str(np.asarray([1,2]))] = .9\n",
    "customfm[str(np.asarray([1,3]))] = .9\n",
    "customfm[str(np.asarray([1,4]))] = .9\n",
    "customfm[str(np.asarray([2,3]))] = 0\n",
    "customfm[str(np.asarray([2,4]))] = 0\n",
    "customfm[str(np.asarray([3,4]))] = 0\n",
    "customfm[str(np.asarray([1,2,3]))] = .9\n",
    "customfm[str(np.asarray([1,2,4]))] = .9\n",
    "customfm[str(np.asarray([1,3,4]))] = .9\n",
    "customfm[str(np.asarray([2,3,4]))] = 0\n",
    "customfm[str(np.asarray([1,2,3,4]))] = 1\n",
    "\n",
    "custom.fm = customfm\n",
    "custom.type='quad'\n",
    "print(custom.fm)\n"
   ]
  },
  {
   "cell_type": "code",
   "execution_count": null,
   "metadata": {},
   "outputs": [],
   "source": [
    "split_owa = ChoquetIntegral()\n",
    "split_owa.M = 5\n",
    "split_fm = {}\n",
    "split_fm[str(np.asarray([1]))] = .1\n",
    "split_fm[str(np.asarray([2]))] = .1\n",
    "split_fm[str(np.asarray([3]))] = .1\n",
    "split_fm[str(np.asarray([4]))] = .1\n",
    "split_fm[str(np.asarray([5]))] = .1\n",
    "split_fm[str(np.asarray([1,2]))] = .2\n",
    "split_fm[str(np.asarray([1,3]))] = .2\n",
    "split_fm[str(np.asarray([1,4]))] = .2\n",
    "split_fm[str(np.asarray([1,5]))] = .2\n",
    "split_fm[str(np.asarray([2,3]))] = .2\n",
    "split_fm[str(np.asarray([2,4]))] = .4\n",
    "split_fm[str(np.asarray([2,5]))] = .4\n",
    "split_fm[str(np.asarray([3,4]))] = .4\n",
    "split_fm[str(np.asarray([3,5]))] = .4\n",
    "split_fm[str(np.asarray([4,5]))] = .4\n",
    "split_fm[str(np.asarray([1,2,3]))] = .6\n",
    "split_fm[str(np.asarray([1,2,4]))] = .6\n",
    "split_fm[str(np.asarray([1,2,5]))] = .6\n",
    "split_fm[str(np.asarray([1,3,4]))] = .6\n",
    "split_fm[str(np.asarray([1,3,5]))] = .6\n",
    "split_fm[str(np.asarray([1,4,5]))] = .6\n",
    "split_fm[str(np.asarray([2,3,4]))] = .6\n",
    "split_fm[str(np.asarray([2,3,5]))] = .6\n",
    "split_fm[str(np.asarray([2,4,5]))] = .6\n",
    "split_fm[str(np.asarray([3,4,5]))] = .6\n",
    "split_fm[str(np.asarray([1,2,3]))] = .6\n",
    "split_fm[str(np.asarray([1,2,3,4]))] = .6\n",
    "split_fm[str(np.asarray([1,2,3,5]))] = .6\n",
    "split_fm[str(np.asarray([1,2,4,5]))] = .6\n",
    "split_fm[str(np.asarray([1,3,4,5]))] = .9\n",
    "split_fm[str(np.asarray([2,3,4,5]))] = .9\n",
    "split_fm[str(np.asarray([1,2,3,4,5]))] = 1"
   ]
  },
  {
   "cell_type": "code",
   "execution_count": 5,
   "metadata": {},
   "outputs": [],
   "source": [
    "def random_node_fm(n):\n",
    "    ch = ChoquetIntegral()\n",
    "    ch.type='quad'\n",
    "    ch.fm = {}\n",
    "    ch.fm[str(np.arange(1,n+1))] = 1\n",
    "    ch.fm['[]'] = 0\n",
    "    ch.N = n\n",
    "    ch.M = n\n",
    "    numkeys = len(ch.get_keys_index())\n",
    "    keys = list(ch.get_keys_index().keys())\n",
    "    keys.append('[]')\n",
    "    s = [0] * (numkeys + 1)\n",
    "    s[-1] = 1\n",
    "    s[-2] = 1\n",
    "    done = False\n",
    "    while not done:\n",
    "        randindex = random.randrange(0,numkeys)\n",
    "        if s[randindex] == 0:\n",
    "            s[randindex] = 1\n",
    "            if keys[randindex] != '[]':\n",
    "                compare_key = [int(s) for s in keys[randindex][1:-1].split() if s.isdigit()]\n",
    "\n",
    "            else:\n",
    "                compare_key = []\n",
    "\n",
    "            maxi = 0\n",
    "            max_index = 0\n",
    "            mini = 1\n",
    "            min_index = 0\n",
    "            for i,key in enumerate(keys):\n",
    "                if s[i] == 1 and i != randindex:\n",
    "                    if key != '[]':\n",
    "                        stripped = [int(s) for s in key[1:-1].split() if s.isdigit()]\n",
    "                    else:\n",
    "                        stripped = []\n",
    "\n",
    "                    if is_subset(stripped,compare_key) and s[i] == 1 and ch.fm[key] >= maxi:\n",
    "                        maxi = ch.fm[key]\n",
    "                        max_index = i\n",
    "                    if is_subset(compare_key,stripped) and s[i] == 1 and ch.fm[key] <= mini:\n",
    "\n",
    "                        mini = ch.fm[key]\n",
    "                        min_index = i\n",
    "\n",
    "\n",
    "            rb = ch.fm[keys[max_index]]\n",
    "            ru = ch.fm[keys[min_index]]\n",
    "            g = random.uniform(rb,ru)\n",
    "            ch.fm[keys[randindex]] = g\n",
    "\n",
    "        else:\n",
    "            pass\n",
    "        if min(s) == 1:\n",
    "            done = True\n",
    "    return ch"
   ]
  },
  {
   "cell_type": "code",
   "execution_count": 6,
   "metadata": {},
   "outputs": [],
   "source": [
    "# a is subset of b\n",
    "def is_subset(a,b):\n",
    "    if len(a) == 0:\n",
    "        return True\n",
    "    if len(b) == 0 and len(a) != 0:\n",
    "        return False\n",
    "    for val in a:\n",
    "        if val not in b:\n",
    "            return False\n",
    "    else:\n",
    "        return True\n",
    "    n=4\n",
    "    \n",
    "\n",
    "# compare_key = [int(s) for s in keys[12][1:-1].split() if s.isdigit()]\n",
    "# # compare_key = list(ch.get_keys_index().keys())[4]\n",
    "# maxi = 0\n",
    "# mini = 0\n",
    "# for i,key in enumerate(keys):\n",
    "#     stripped = [int(s) for s in key[1:-1].split() if s.isdigit()]\n",
    "#     if is_subset(stripped,compare_key) and s[i] == 1 and ch.fm[key] > maxi\n",
    "        \n",
    "    \n",
    "# a = [int(s) for s in list(keys.keys())[13][1:-1].split() if s.isdigit()]\n",
    "# b =[int(s) for s in list(keys.keys())[7][1:-1].split() if s.isdigit()]\n",
    "\n"
   ]
  },
  {
   "cell_type": "code",
   "execution_count": 7,
   "metadata": {},
   "outputs": [],
   "source": [
    "walk_diffs = custom.generate_walk_diffs()"
   ]
  },
  {
   "cell_type": "code",
   "execution_count": 8,
   "metadata": {},
   "outputs": [],
   "source": [
    "def sample_with_noise(ch,data,mean,var):\n",
    "    labels = np.zeros(data.shape[0])\n",
    "    for i,point in enumerate(data):\n",
    "        labels[i] = max(min(ch.chi_quad(point) + random.gauss(mean,var),1),0)\n",
    "    return labels\n",
    "\n",
    "def gen_datapoints(m,n):\n",
    "    points = []\n",
    "    for i in range(n):\n",
    "        point = []\n",
    "        for j in range(m):\n",
    "            point.append(random.random())\n",
    "        points.append(point)\n",
    "    return np.asarray(points)\n"
   ]
  },
  {
   "cell_type": "code",
   "execution_count": 40,
   "metadata": {},
   "outputs": [
    {
     "name": "stdout",
     "output_type": "stream",
     "text": [
      "Number Inputs :  4 ; Number Samples :  200\n",
      "     pcost       dcost       gap    pres   dres\n",
      " 0: -2.2695e+00 -1.0137e+01  8e+01  7e+00  7e-01\n",
      " 1: -1.4318e+00 -8.0574e+00  2e+01  1e+00  1e-01\n",
      " 2: -8.1357e-01 -3.0400e+00  2e+00  1e-02  1e-03\n",
      " 3: -1.7450e+00 -2.0595e+00  3e-01  1e-04  1e-05\n",
      " 4: -1.9148e+00 -1.9481e+00  3e-02  5e-06  5e-07\n",
      " 5: -1.9391e+00 -1.9403e+00  1e-03  7e-08  7e-09\n",
      " 6: -1.9400e+00 -1.9400e+00  1e-05  7e-10  7e-11\n",
      " 7: -1.9400e+00 -1.9400e+00  1e-07  7e-12  7e-13\n",
      "Optimal solution found.\n"
     ]
    },
    {
     "data": {
      "text/plain": [
       "({(1, 2, 3, 4): 5,\n",
       "  (1, 2, 4, 3): 5,\n",
       "  (1, 3, 2, 4): 8,\n",
       "  (1, 3, 4, 2): 11,\n",
       "  (1, 4, 2, 3): 12,\n",
       "  (1, 4, 3, 2): 10,\n",
       "  (2, 1, 3, 4): 4,\n",
       "  (2, 1, 4, 3): 12,\n",
       "  (2, 3, 1, 4): 6,\n",
       "  (2, 3, 4, 1): 10,\n",
       "  (2, 4, 1, 3): 9,\n",
       "  (2, 4, 3, 1): 3,\n",
       "  (3, 1, 2, 4): 13,\n",
       "  (3, 1, 4, 2): 16,\n",
       "  (3, 2, 1, 4): 8,\n",
       "  (3, 2, 4, 1): 10,\n",
       "  (3, 4, 1, 2): 6,\n",
       "  (3, 4, 2, 1): 13,\n",
       "  (4, 1, 2, 3): 6,\n",
       "  (4, 1, 3, 2): 4,\n",
       "  (4, 2, 1, 3): 5,\n",
       "  (4, 2, 3, 1): 11,\n",
       "  (4, 3, 1, 2): 6,\n",
       "  (4, 3, 2, 1): 7},\n",
       " {(1, 2, 3, 4): 0.025,\n",
       "  (1, 2, 4, 3): 0.025,\n",
       "  (1, 3, 2, 4): 0.04,\n",
       "  (1, 3, 4, 2): 0.055,\n",
       "  (1, 4, 2, 3): 0.06,\n",
       "  (1, 4, 3, 2): 0.05,\n",
       "  (2, 1, 3, 4): 0.02,\n",
       "  (2, 1, 4, 3): 0.06,\n",
       "  (2, 3, 1, 4): 0.03,\n",
       "  (2, 3, 4, 1): 0.05,\n",
       "  (2, 4, 1, 3): 0.045,\n",
       "  (2, 4, 3, 1): 0.015,\n",
       "  (3, 1, 2, 4): 0.065,\n",
       "  (3, 1, 4, 2): 0.08,\n",
       "  (3, 2, 1, 4): 0.04,\n",
       "  (3, 2, 4, 1): 0.05,\n",
       "  (3, 4, 1, 2): 0.03,\n",
       "  (3, 4, 2, 1): 0.065,\n",
       "  (4, 1, 2, 3): 0.03,\n",
       "  (4, 1, 3, 2): 0.02,\n",
       "  (4, 2, 1, 3): 0.025,\n",
       "  (4, 2, 3, 1): 0.055,\n",
       "  (4, 3, 1, 2): 0.03,\n",
       "  (4, 3, 2, 1): 0.035})"
      ]
     },
     "execution_count": 40,
     "metadata": {},
     "output_type": "execute_result"
    }
   ],
   "source": [
    "data = gen_datapoints(4,200)\n",
    "noisy_labels = sample_with_noise(ch,data,0,.1)\n",
    "\n",
    "noisy_chi = ChoquetIntegral()\n",
    "noisy_chi.train_chi(data.T,noisy_labels)\n",
    "\n",
    "xai.walk_visitation(data.T)"
   ]
  },
  {
   "cell_type": "code",
   "execution_count": 42,
   "metadata": {},
   "outputs": [
    {
     "data": {
      "image/png": "[encoded data removed]",
      "text/plain": [
       "<Figure size 720x720 with 1 Axes>"
      ]
     },
     "metadata": {
      "needs_background": "light"
     },
     "output_type": "display_data"
    },
    {
     "data": {
      "image/png": "[encoded data removed]",
      "text/plain": [
       "<Figure size 720x720 with 1 Axes>"
      ]
     },
     "metadata": {
      "needs_background": "light"
     },
     "output_type": "display_data"
    }
   ],
   "source": [
    "diffs = noisy_chi.generate_walk_diffs()\n",
    "vat(diffs)\n",
    "vat(diffs,euclidean=True)"
   ]
  },
  {
   "cell_type": "code",
   "execution_count": null,
   "metadata": {},
   "outputs": [],
   "source": [
    "distance_matrix = np.array([[0,1,2,3],\n",
    "                            [1,0,1,2],\n",
    "                            [2,1,0,1],\n",
    "                            [3,2,1,0]],dtype=float)\n",
    "\n",
    "def gen_unit_distance_matrix(n):\n",
    "    distance_matrix = np.zeros((n,n))\n",
    "    for i in range(n):\n",
    "        for j in range(n):\n",
    "            distance_matrix[i][j] = np.abs(i-j)\n",
    "    return distance_matrix\n",
    "\n",
    "def emd_pairwise_dissimilarity(X):\n",
    "    pairwise = np.zeros((X.shape[0],X.shape[0]))\n",
    "    distance_matrix = gen_unit_distance_matrix(X.shape[1])\n",
    "    for i in range(X.shape[0]):\n",
    "        for j in range(X.shape[0]):\n",
    "            if i == j:\n",
    "                pairwise[i][j] = 0\n",
    "            else:\n",
    "                diff = pyemd.emd(X[i],X[j],distance_matrix)\n",
    "                pairwise[i][j]=diff\n",
    "    return pairwise\n"
   ]
  },
  {
   "cell_type": "code",
   "execution_count": 38,
   "metadata": {},
   "outputs": [
    {
     "data": {
      "image/png": "[encoded data removed]",
      "text/plain": [
       "<Figure size 720x720 with 1 Axes>"
      ]
     },
     "metadata": {
      "needs_background": "light"
     },
     "output_type": "display_data"
    },
    {
     "data": {
      "image/png": "[encoded data removed]",
      "text/plain": [
       "<Figure size 720x720 with 1 Axes>"
      ]
     },
     "metadata": {
      "needs_background": "light"
     },
     "output_type": "display_data"
    }
   ],
   "source": [
    "\n",
    "ch = random_node_fm(5)\n",
    "\n",
    "diffs = ch.generate_walk_diffs()\n",
    "odm,reorder = vat(diffs,return_odm=True,euclidean=False)\n",
    "odm,reorder = vat(diffs,return_odm=True,euclidean=True)"
   ]
  },
  {
   "cell_type": "code",
   "execution_count": null,
   "metadata": {
    "scrolled": true
   },
   "outputs": [],
   "source": [
    "a = ch.generate_walk_diffs()\n",
    "for row in a:\n",
    "    r = [\"{:.2f}\".format(x) for x in row]\n",
    "    print(r)"
   ]
  },
  {
   "cell_type": "code",
   "execution_count": null,
   "metadata": {},
   "outputs": [],
   "source": [
    "def generate_walk_diffs(chi):\n",
    "    n = chi.M\n",
    "    initial = []\n",
    "    for i in range(n):\n",
    "        initial.append(i+1)\n",
    "\n",
    "    index_permutations = itertools.permutations(initial,4)\n",
    "    walks = np.ndarray((math.factorial(n),n),dtype=int)\n",
    "    walk_diffs = np.ndarray((math.factorial(n),n),dtype=float)\n",
    "    for i,val in enumerate(index_permutations):\n",
    "        walks[i] = np.asarray(val)\n",
    "\n",
    "        c_build = np.ndarray(n)\n",
    "        for j in range(len(walks[i])):\n",
    "            if j == 0:\n",
    "                c_build[j] = chi.fm[str(walks[i][0:1])]\n",
    "            else:\n",
    "                c_build[j] = (chi.fm[str(np.sort(walks[i][0:j+1]))]) - (chi.fm[str(np.sort(walks[i][0:j]))])\n",
    "\n",
    "        walk_diffs[i] = c_build\n",
    "    return walk_diffs"
   ]
  },
  {
   "cell_type": "code",
   "execution_count": null,
   "metadata": {},
   "outputs": [],
   "source": []
  },
  {
   "cell_type": "code",
   "execution_count": 25,
   "metadata": {},
   "outputs": [],
   "source": [
    "def read_crisp(fname):\n",
    "    part = []\n",
    "    with open(fname) as csvfile:\n",
    "        reader = csv.reader(csvfile,delimiter=',')\n",
    "        for row in reader:\n",
    "            part.append(row)\n",
    "    return np.asarray(part,dtype=int)\n",
    "crisp_part = read_crisp(\"crisp.csv\")"
   ]
  },
  {
   "cell_type": "code",
   "execution_count": 27,
   "metadata": {},
   "outputs": [],
   "source": [
    "#input: crisp partition matrix, reordering from odm to dm, odm itself\n",
    "def center_from_crisp(crisp,reordering,odm):\n",
    "    n = crisp.shape[0]\n",
    "    row = 0\n",
    "    num_in_cluster = 0\n",
    "    cluster_centers = []\n",
    "    for i in range(n):\n",
    "        if crisp[row][i] == 1:\n",
    "            num_in_cluster = num_in_cluster + 1\n",
    "            \n",
    "        else:\n",
    "#             print(\"new cluster at\", i)\n",
    "            mini = np.inf\n",
    "            mini_row = row\n",
    "            for j in range(row,row+num_in_cluster):\n",
    "                row_sum = np.sum(odm[j][i-num_in_cluster:i])\n",
    "                if row_sum < mini:\n",
    "                    mini = row_sum\n",
    "                    mini_row = j\n",
    "            cluster_centers.append(reorder[mini_row][0][0])   #the center is row w/ minimum difference, put back in unordered\n",
    "            row = row+num_in_cluster\n",
    "            num_in_cluster = 1\n",
    "            \n",
    "    mini = np.inf\n",
    "    mini_row = row\n",
    "    for j in range(row,row+num_in_cluster):\n",
    "        row_sum = np.sum(odm[j][i-num_in_cluster+1:i+1])\n",
    "#         print(row_sum, \"sum of row\", j)\n",
    "        if row_sum < mini:\n",
    "            mini = row_sum\n",
    "            mini_row = j\n",
    "    cluster_centers.append(reorder[mini_row][0][0])\n",
    "    return cluster_centers"
   ]
  },
  {
   "cell_type": "code",
   "execution_count": 28,
   "metadata": {},
   "outputs": [
    {
     "name": "stdout",
     "output_type": "stream",
     "text": [
      "[20, 13]\n"
     ]
    },
    {
     "data": {
      "text/plain": [
       "array([[0.04180784, 0.0451774 , 0.79477538, 0.11823938],\n",
       "       [0.04180784, 0.0451774 , 0.46612632, 0.44688844],\n",
       "       [0.04180784, 0.70928886, 0.13066392, 0.11823938],\n",
       "       [0.04180784, 0.70928886, 0.07443559, 0.17446772],\n",
       "       [0.04180784, 0.49489391, 0.01640982, 0.44688844],\n",
       "       [0.04180784, 0.49489391, 0.28883054, 0.17446772],\n",
       "       [0.01295884, 0.0740264 , 0.79477538, 0.11823938],\n",
       "       [0.01295884, 0.0740264 , 0.46612632, 0.44688844],\n",
       "       [0.01295884, 0.15093072, 0.71787106, 0.11823938],\n",
       "       [0.01295884, 0.15093072, 0.07454434, 0.7615661 ],\n",
       "       [0.01295884, 0.17355843, 0.36659429, 0.44688844],\n",
       "       [0.01295884, 0.17355843, 0.05191663, 0.7615661 ],\n",
       "       [0.05029388, 0.70080282, 0.13066392, 0.11823938],\n",
       "       [0.05029388, 0.70080282, 0.07443559, 0.17446772],\n",
       "       [0.05029388, 0.11359568, 0.71787106, 0.11823938],\n",
       "       [0.05029388, 0.11359568, 0.07454434, 0.7615661 ],\n",
       "       [0.05029388, 0.07115715, 0.70408125, 0.17446772],\n",
       "       [0.05029388, 0.07115715, 0.11698287, 0.7615661 ],\n",
       "       [0.06323317, 0.47346857, 0.01640982, 0.44688844],\n",
       "       [0.06323317, 0.47346857, 0.28883054, 0.17446772],\n",
       "       [0.06323317, 0.12328409, 0.36659429, 0.44688844],\n",
       "       [0.06323317, 0.12328409, 0.05191663, 0.7615661 ],\n",
       "       [0.06323317, 0.05821786, 0.70408125, 0.17446772],\n",
       "       [0.06323317, 0.05821786, 0.11698287, 0.7615661 ]])"
      ]
     },
     "execution_count": 28,
     "metadata": {},
     "output_type": "execute_result"
    }
   ],
   "source": [
    "\n",
    "print(center_from_crisp(crisp_part,reorder,odm))\n",
    "ch.generate_walk_diffs()"
   ]
  },
  {
   "cell_type": "code",
   "execution_count": null,
   "metadata": {},
   "outputs": [],
   "source": [
    "with open('odm.csv', 'w') as csvfile:\n",
    "    writer = csv.writer(csvfile, delimiter=',')\n",
    "    for row in odm:\n",
    "        writer.writerow(row)"
   ]
  }
 ],
 "metadata": {
  "kernelspec": {
   "display_name": "Python 3",
   "language": "python",
   "name": "python3"
  },
  "language_info": {
   "codemirror_mode": {
    "name": "ipython",
    "version": 3
   },
   "file_extension": ".py",
   "mimetype": "text/x-python",
   "name": "python",
   "nbconvert_exporter": "python",
   "pygments_lexer": "ipython3",
   "version": "3.8.2"
  }
 },
 "nbformat": 4,
 "nbformat_minor": 4
}
