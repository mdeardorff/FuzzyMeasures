{
 "cells": [
  {
   "cell_type": "code",
   "execution_count": 207,
   "metadata": {},
   "outputs": [],
   "source": [
    "from choquet_integral import *\n",
    "import numpy as np\n",
    "import cv2\n",
    "import itertools\n",
    "import math\n",
    "import inspect\n",
    "import matplotlib.pyplot as plt\n",
    "import csv\n",
    "import sklearn.metrics as metrics\n",
    "from scipy.stats import entropy\n",
    "import random\n",
    "import xai_indices as xai\n",
    "import pyemd"
   ]
  },
  {
   "cell_type": "code",
   "execution_count": 208,
   "metadata": {},
   "outputs": [],
   "source": [
    "from sklearn import datasets\n",
    "from emd_clustertend import vat, ivat\n",
    "from sklearn.preprocessing import scale"
   ]
  },
  {
   "cell_type": "code",
   "execution_count": 209,
   "metadata": {},
   "outputs": [
    {
     "name": "stdout",
     "output_type": "stream",
     "text": [
      "Number Inputs :  4 ; Number Samples :  200\n",
      "     pcost       dcost       gap    pres   dres\n",
      " 0: -6.0491e+01 -6.6346e+01  7e+01  7e+00  2e-01\n",
      " 1: -5.8408e+01 -6.6269e+01  1e+01  3e-01  7e-03\n",
      " 2: -5.9225e+01 -6.1020e+01  2e+00  5e-02  1e-03\n",
      " 3: -5.9726e+01 -6.0211e+01  5e-01  5e-04  1e-05\n",
      " 4: -5.9804e+01 -5.9831e+01  3e-02  2e-05  5e-07\n",
      " 5: -5.9812e+01 -5.9813e+01  5e-04  2e-07  6e-09\n",
      " 6: -5.9812e+01 -5.9812e+01  5e-06  2e-09  6e-11\n",
      "Optimal solution found.\n"
     ]
    },
    {
     "data": {
      "text/plain": [
       "{'[1]': 0.35130082368892224,\n",
       " '[2]': 0.35608654851355154,\n",
       " '[3]': 0.35130055802304383,\n",
       " '[4]': 0.16959190146536943,\n",
       " '[1 2]': 0.6743477555946286,\n",
       " '[1 3]': 0.3513008372828401,\n",
       " '[1 4]': 0.3513042973110788,\n",
       " '[2 3]': 0.45434129092529696,\n",
       " '[2 4]': 0.7814703516190408,\n",
       " '[3 4]': 0.35130057647291546,\n",
       " '[1 2 3]': 0.6743478123963615,\n",
       " '[1 2 4]': 0.9059957915320794,\n",
       " '[1 3 4]': 0.3513044150867414,\n",
       " '[2 3 4]': 0.7814703936234659,\n",
       " '[1 2 3 4]': 1.0}"
      ]
     },
     "execution_count": 209,
     "metadata": {},
     "output_type": "execute_result"
    }
   ],
   "source": [
    "chi = ChoquetIntegral()\n",
    "\n",
    "data = np.random.rand(4, 100)\n",
    "labels = np.amax(data, 0)\n",
    "data2 = data[::-1,:]\n",
    "labels2 = np.amin(data2,0)\n",
    "\n",
    "data = np.concatenate((data,data2),axis=1)\n",
    "labels = np.concatenate((labels,labels2))\n",
    "\n",
    "# train the chi via quadratic program \n",
    "chi.train_chi(data, labels)\n",
    "\n",
    "# print out the learned chi variables. (in this case, all 1's) \n",
    "chi.fm"
   ]
  },
  {
   "cell_type": "code",
   "execution_count": 244,
   "metadata": {},
   "outputs": [
    {
     "name": "stdout",
     "output_type": "stream",
     "text": [
      "{'[1]': 0.9, '[2]': 0, '[3]': 0, '[4]': 0, '[1 2]': 0.9, '[1 3]': 0.9, '[1 4]': 0.9, '[2 3]': 0, '[2 4]': 0, '[3 4]': 0, '[1 2 3]': 0.9, '[1 2 4]': 0.9, '[1 3 4]': 0.9, '[2 3 4]': 0, '[1 2 3 4]': 1}\n",
      "[1]\n",
      "[2]\n",
      "[3]\n",
      "[4]\n",
      "[1 2]\n",
      "[1 3]\n",
      "[1 4]\n",
      "[2 3]\n",
      "[2 4]\n",
      "[3 4]\n",
      "[1 2 3]\n",
      "[1 2 4]\n",
      "[1 3 4]\n",
      "[2 3 4]\n",
      "[1 2 3 4]\n"
     ]
    }
   ],
   "source": [
    "custom = ChoquetIntegral()\n",
    "custom.N = 4\n",
    "customfm = {}\n",
    "customfm[str(np.asarray([1]))] = .9\n",
    "customfm[str(np.asarray([2]))] = 0\n",
    "customfm[str(np.asarray([3]))] = 0\n",
    "customfm[str(np.asarray([4]))] = 0\n",
    "customfm[str(np.asarray([1,2]))] = .9\n",
    "customfm[str(np.asarray([1,3]))] = .9\n",
    "customfm[str(np.asarray([1,4]))] = .9\n",
    "customfm[str(np.asarray([2,3]))] = 0\n",
    "customfm[str(np.asarray([2,4]))] = 0\n",
    "customfm[str(np.asarray([3,4]))] = 0\n",
    "customfm[str(np.asarray([1,2,3]))] = .9\n",
    "customfm[str(np.asarray([1,2,4]))] = .9\n",
    "customfm[str(np.asarray([1,3,4]))] = .9\n",
    "customfm[str(np.asarray([2,3,4]))] = 0\n",
    "customfm[str(np.asarray([1,2,3,4]))] = 1\n",
    "\n",
    "custom.fm = customfm\n",
    "custom.type='quad'\n",
    "print(custom.fm)\n"
   ]
  },
  {
   "cell_type": "code",
   "execution_count": 429,
   "metadata": {},
   "outputs": [
    {
     "ename": "TypeError",
     "evalue": "'NoneType' object is not subscriptable",
     "output_type": "error",
     "traceback": [
      "\u001b[1;31m---------------------------------------------------------------------------\u001b[0m",
      "\u001b[1;31mTypeError\u001b[0m                                 Traceback (most recent call last)",
      "\u001b[1;32m<ipython-input-429-4c2c91cd1558>\u001b[0m in \u001b[0;36m<module>\u001b[1;34m\u001b[0m\n\u001b[0;32m     15\u001b[0m     \u001b[1;32mif\u001b[0m \u001b[0ms\u001b[0m\u001b[1;33m[\u001b[0m\u001b[0mrandindex\u001b[0m\u001b[1;33m]\u001b[0m \u001b[1;33m==\u001b[0m \u001b[1;36m0\u001b[0m\u001b[1;33m:\u001b[0m\u001b[1;33m\u001b[0m\u001b[1;33m\u001b[0m\u001b[0m\n\u001b[0;32m     16\u001b[0m         \u001b[0ms\u001b[0m\u001b[1;33m[\u001b[0m\u001b[0mrandindex\u001b[0m\u001b[1;33m]\u001b[0m \u001b[1;33m=\u001b[0m \u001b[1;36m1\u001b[0m\u001b[1;33m\u001b[0m\u001b[1;33m\u001b[0m\u001b[0m\n\u001b[1;32m---> 17\u001b[1;33m         \u001b[0mcompare_key\u001b[0m \u001b[1;33m=\u001b[0m \u001b[1;33m[\u001b[0m\u001b[0mint\u001b[0m\u001b[1;33m(\u001b[0m\u001b[0ms\u001b[0m\u001b[1;33m)\u001b[0m \u001b[1;32mfor\u001b[0m \u001b[0ms\u001b[0m \u001b[1;32min\u001b[0m \u001b[0mkeys\u001b[0m\u001b[1;33m[\u001b[0m\u001b[0mrandindex\u001b[0m\u001b[1;33m]\u001b[0m\u001b[1;33m[\u001b[0m\u001b[1;36m1\u001b[0m\u001b[1;33m:\u001b[0m\u001b[1;33m-\u001b[0m\u001b[1;36m1\u001b[0m\u001b[1;33m]\u001b[0m\u001b[1;33m.\u001b[0m\u001b[0msplit\u001b[0m\u001b[1;33m(\u001b[0m\u001b[1;33m)\u001b[0m \u001b[1;32mif\u001b[0m \u001b[0ms\u001b[0m\u001b[1;33m.\u001b[0m\u001b[0misdigit\u001b[0m\u001b[1;33m(\u001b[0m\u001b[1;33m)\u001b[0m\u001b[1;33m]\u001b[0m\u001b[1;33m\u001b[0m\u001b[1;33m\u001b[0m\u001b[0m\n\u001b[0m\u001b[0;32m     18\u001b[0m         \u001b[0mmaxi\u001b[0m \u001b[1;33m=\u001b[0m \u001b[1;36m0\u001b[0m\u001b[1;33m\u001b[0m\u001b[1;33m\u001b[0m\u001b[0m\n\u001b[0;32m     19\u001b[0m         \u001b[0mmax_index\u001b[0m \u001b[1;33m=\u001b[0m \u001b[1;36m0\u001b[0m\u001b[1;33m\u001b[0m\u001b[1;33m\u001b[0m\u001b[0m\n",
      "\u001b[1;31mTypeError\u001b[0m: 'NoneType' object is not subscriptable"
     ]
    }
   ],
   "source": [
    "# def random_node_fm(n):\n",
    "n = 4\n",
    "ch = ChoquetIntegral()\n",
    "ch.fm = {}\n",
    "ch.fm[str(np.arange(1,n+1))] = 1\n",
    "ch.N = n\n",
    "numkeys = len(ch.get_keys_index())\n",
    "keys = list(ch.get_keys_index().keys()).append('[]')\n",
    "s = [0] * numkeys\n",
    "s[-1] = 1\n",
    "s[0] = 1\n",
    "done = False\n",
    "while not done:\n",
    "    randindex = random.randrange(0,numkeys)\n",
    "    if s[randindex] == 0:\n",
    "        s[randindex] = 1\n",
    "        if keys[randindex] != '[]'\n",
    "            compare_key = [int(s) for s in keys[randindex][1:-1].split() if s.isdigit()]\n",
    "        else:\n",
    "            compare_key = []\n",
    "        maxi = 0\n",
    "        max_index = 0\n",
    "        mini = 1\n",
    "        min_index = 0\n",
    "        for i,key in enumerate(keys):\n",
    "            if s[i] == 1 and i != randindex:\n",
    "                if key != '[]':\n",
    "                    stripped = [int(s) for s in key[1:-1].split() if s.isdigit()]\n",
    "                else:\n",
    "                    stripped = []\n",
    "                print(compare_key,stripped)\n",
    "                if is_subset(stripped,compare_key) and s[i] == 1 and ch.fm[key] > maxi:\n",
    "                    maxi = ch.fm[key]\n",
    "                    max_index = i\n",
    "                if is_subset(compare_key,stripped) and s[i] == 1 and ch.fm[key] < mini:\n",
    "                    mini = ch.fm[key]\n",
    "                    min_index = i\n",
    "\n",
    "        print(maxi)\n",
    "        print(mini)\n",
    "        print(max_index)\n",
    "        print(min_index)\n",
    "        rb = ch.fm[keys[max_index]]\n",
    "        ru = ch.fm[keys[min_index]]\n",
    "        print(rb)\n",
    "        print(ru)\n",
    "        g = random.randrange(rb,ru)\n",
    "        ch.fm[keys[randindex]] = g\n",
    "        \n",
    "    else:\n",
    "        break\n",
    "    if min(s) == 1:\n",
    "        done = True"
   ]
  },
  {
   "cell_type": "code",
   "execution_count": 420,
   "metadata": {},
   "outputs": [
    {
     "data": {
      "text/plain": [
       "'[1 2 3 4]'"
      ]
     },
     "execution_count": 420,
     "metadata": {},
     "output_type": "execute_result"
    }
   ],
   "source": [
    "# a is subset of b\n",
    "def is_subset(a,b):\n",
    "    if len(a) == 0:\n",
    "        return True\n",
    "    for val in a:\n",
    "        if val not in b:\n",
    "            return False\n",
    "    else:\n",
    "        return True\n",
    "    n=4\n",
    "str(np.arange(1,5))\n",
    "# compare_key = [int(s) for s in keys[12][1:-1].split() if s.isdigit()]\n",
    "# # compare_key = list(ch.get_keys_index().keys())[4]\n",
    "# maxi = 0\n",
    "# mini = 0\n",
    "# for i,key in enumerate(keys):\n",
    "#     stripped = [int(s) for s in key[1:-1].split() if s.isdigit()]\n",
    "#     if is_subset(stripped,compare_key) and s[i] == 1 and ch.fm[key] > maxi\n",
    "        \n",
    "    \n",
    "# a = [int(s) for s in list(keys.keys())[13][1:-1].split() if s.isdigit()]\n",
    "# b =[int(s) for s in list(keys.keys())[7][1:-1].split() if s.isdigit()]\n",
    "\n"
   ]
  },
  {
   "cell_type": "code",
   "execution_count": 137,
   "metadata": {},
   "outputs": [],
   "source": [
    "walk_diffs = custom.generate_walk_diffs()"
   ]
  },
  {
   "cell_type": "code",
   "execution_count": 211,
   "metadata": {},
   "outputs": [],
   "source": [
    "def sample_with_noise(ch,data,mean,var):\n",
    "    labels = np.zeros(data.shape[0])\n",
    "    for i,point in enumerate(data):\n",
    "        labels[i] = max(min(ch.chi_quad(point) + random.gauss(mean,var),1),0)\n",
    "    return labels\n",
    "\n",
    "def gen_datapoints(m,n):\n",
    "    points = []\n",
    "    for i in range(n):\n",
    "        point = []\n",
    "        for j in range(m):\n",
    "            point.append(random.random())\n",
    "        points.append(point)\n",
    "    return np.asarray(points)\n"
   ]
  },
  {
   "cell_type": "code",
   "execution_count": 212,
   "metadata": {},
   "outputs": [
    {
     "name": "stdout",
     "output_type": "stream",
     "text": [
      "Number Inputs :  4 ; Number Samples :  200\n",
      "     pcost       dcost       gap    pres   dres\n",
      " 0: -6.6144e+01 -7.4208e+01  7e+01  6e+00  2e-01\n",
      " 1: -6.5373e+01 -7.2405e+01  1e+01  6e-01  2e-02\n",
      " 2: -6.5997e+01 -6.7562e+01  2e+00  6e-02  2e-03\n",
      " 3: -6.6300e+01 -6.6649e+01  4e-01  9e-03  3e-04\n",
      " 4: -6.6400e+01 -6.6488e+01  9e-02  1e-03  3e-05\n",
      " 5: -6.6426e+01 -6.6436e+01  9e-03  3e-05  9e-07\n",
      " 6: -6.6430e+01 -6.6431e+01  1e-03  3e-07  9e-09\n",
      " 7: -6.6430e+01 -6.6430e+01  4e-05  4e-09  1e-10\n",
      "Optimal solution found.\n"
     ]
    },
    {
     "data": {
      "text/plain": [
       "({(1, 2, 3, 4): 2,\n",
       "  (1, 2, 4, 3): 6,\n",
       "  (1, 3, 2, 4): 6,\n",
       "  (1, 3, 4, 2): 5,\n",
       "  (1, 4, 2, 3): 5,\n",
       "  (1, 4, 3, 2): 12,\n",
       "  (2, 1, 3, 4): 9,\n",
       "  (2, 1, 4, 3): 9,\n",
       "  (2, 3, 1, 4): 7,\n",
       "  (2, 3, 4, 1): 8,\n",
       "  (2, 4, 1, 3): 4,\n",
       "  (2, 4, 3, 1): 21,\n",
       "  (3, 1, 2, 4): 5,\n",
       "  (3, 1, 4, 2): 9,\n",
       "  (3, 2, 1, 4): 6,\n",
       "  (3, 2, 4, 1): 11,\n",
       "  (3, 4, 1, 2): 8,\n",
       "  (3, 4, 2, 1): 10,\n",
       "  (4, 1, 2, 3): 14,\n",
       "  (4, 1, 3, 2): 7,\n",
       "  (4, 2, 1, 3): 5,\n",
       "  (4, 2, 3, 1): 11,\n",
       "  (4, 3, 1, 2): 9,\n",
       "  (4, 3, 2, 1): 11},\n",
       " {(1, 2, 3, 4): 0.01,\n",
       "  (1, 2, 4, 3): 0.03,\n",
       "  (1, 3, 2, 4): 0.03,\n",
       "  (1, 3, 4, 2): 0.025,\n",
       "  (1, 4, 2, 3): 0.025,\n",
       "  (1, 4, 3, 2): 0.06,\n",
       "  (2, 1, 3, 4): 0.045,\n",
       "  (2, 1, 4, 3): 0.045,\n",
       "  (2, 3, 1, 4): 0.035,\n",
       "  (2, 3, 4, 1): 0.04,\n",
       "  (2, 4, 1, 3): 0.02,\n",
       "  (2, 4, 3, 1): 0.105,\n",
       "  (3, 1, 2, 4): 0.025,\n",
       "  (3, 1, 4, 2): 0.045,\n",
       "  (3, 2, 1, 4): 0.03,\n",
       "  (3, 2, 4, 1): 0.055,\n",
       "  (3, 4, 1, 2): 0.04,\n",
       "  (3, 4, 2, 1): 0.05,\n",
       "  (4, 1, 2, 3): 0.07,\n",
       "  (4, 1, 3, 2): 0.035,\n",
       "  (4, 2, 1, 3): 0.025,\n",
       "  (4, 2, 3, 1): 0.055,\n",
       "  (4, 3, 1, 2): 0.045,\n",
       "  (4, 3, 2, 1): 0.055})"
      ]
     },
     "execution_count": 212,
     "metadata": {},
     "output_type": "execute_result"
    }
   ],
   "source": [
    "data = gen_datapoints(4,200)\n",
    "noisy_labels = sample_with_noise(custom,data,0,.1)\n",
    "\n",
    "noisy_chi = ChoquetIntegral()\n",
    "noisy_chi.train_chi(data.T,noisy_labels)\n",
    "\n",
    "xai.walk_visitation(data.T)"
   ]
  },
  {
   "cell_type": "code",
   "execution_count": 29,
   "metadata": {},
   "outputs": [],
   "source": [
    "distance_matrix = np.array([[0,1,2,3],\n",
    "                            [1,0,1,2],\n",
    "                            [2,1,0,1],\n",
    "                            [3,2,1,0]],dtype=float)\n",
    "\n",
    "def gen_unit_distance_matrix(n):\n",
    "    distance_matrix = np.zeros((n,n))\n",
    "    for i in range(n):\n",
    "        for j in range(n):\n",
    "            distance_matrix[i][j] = np.abs(i-j)\n",
    "    return distance_matrix\n",
    "\n",
    "def emd_pairwise_dissimilarity(X):\n",
    "    pairwise = np.zeros((X.shape[0],X.shape[0]))\n",
    "    distance_matrix = gen_unit_distance_matrix(X.shape[1])\n",
    "    for i in range(X.shape[0]):\n",
    "        for j in range(X.shape[0]):\n",
    "            if i == j:\n",
    "                pairwise[i][j] = 0\n",
    "            else:\n",
    "                diff = pyemd.emd(X[i],X[j],distance_matrix)\n",
    "                pairwise[i][j]=diff\n",
    "    return pairwise\n"
   ]
  },
  {
   "cell_type": "code",
   "execution_count": 213,
   "metadata": {},
   "outputs": [
    {
     "data": {
      "image/png": "[encoded data removed]",
      "text/plain": [
       "<Figure size 720x720 with 1 Axes>"
      ]
     },
     "metadata": {
      "needs_background": "light"
     },
     "output_type": "display_data"
    }
   ],
   "source": [
    "diffs = noisy_chi.generate_walk_diffs()\n",
    "odm,reorder = vat(diffs,return_odm=True)"
   ]
  },
  {
   "cell_type": "code",
   "execution_count": 232,
   "metadata": {
    "scrolled": true
   },
   "outputs": [
    {
     "name": "stdout",
     "output_type": "stream",
     "text": [
      "['0.84', '0.00', '0.04', '0.12']\n",
      "['0.84', '0.00', '0.00', '0.16']\n",
      "['0.84', '0.04', '0.00', '0.12']\n",
      "['0.84', '0.04', '0.10', '0.02']\n",
      "['0.84', '0.00', '0.00', '0.16']\n",
      "['0.84', '0.00', '0.14', '0.02']\n",
      "['0.06', '0.78', '0.04', '0.12']\n",
      "['0.06', '0.78', '0.00', '0.16']\n",
      "['0.06', '0.00', '0.82', '0.12']\n",
      "['0.06', '0.00', '0.01', '0.92']\n",
      "['0.06', '0.01', '0.77', '0.16']\n",
      "['0.06', '0.01', '0.00', '0.92']\n",
      "['0.01', '0.87', '0.00', '0.12']\n",
      "['0.01', '0.87', '0.10', '0.02']\n",
      "['0.01', '0.06', '0.82', '0.12']\n",
      "['0.01', '0.06', '0.01', '0.92']\n",
      "['0.01', '0.07', '0.91', '0.02']\n",
      "['0.01', '0.07', '0.00', '0.92']\n",
      "['0.08', '0.77', '0.00', '0.16']\n",
      "['0.08', '0.77', '0.14', '0.02']\n",
      "['0.08', '0.00', '0.77', '0.16']\n",
      "['0.08', '0.00', '0.00', '0.92']\n",
      "['0.08', '0.00', '0.91', '0.02']\n",
      "['0.08', '0.00', '0.00', '0.92']\n"
     ]
    }
   ],
   "source": [
    "a = noisy_chi.generate_walk_diffs()\n",
    "for row in a:\n",
    "    r = [\"{:.2f}\".format(x) for x in row]\n",
    "    print(r)"
   ]
  },
  {
   "cell_type": "code",
   "execution_count": null,
   "metadata": {},
   "outputs": [],
   "source": [
    "def generate_walk_diffs(chi):\n",
    "    n = chi.M\n",
    "    initial = []\n",
    "    for i in range(n):\n",
    "        initial.append(i+1)\n",
    "\n",
    "    index_permutations = itertools.permutations(initial,4)\n",
    "    walks = np.ndarray((math.factorial(n),n),dtype=int)\n",
    "    walk_diffs = np.ndarray((math.factorial(n),n),dtype=float)\n",
    "    for i,val in enumerate(index_permutations):\n",
    "        walks[i] = np.asarray(val)\n",
    "\n",
    "        c_build = np.ndarray(n)\n",
    "        for j in range(len(walks[i])):\n",
    "            if j == 0:\n",
    "                c_build[j] = chi.fm[str(walks[i][0:1])]\n",
    "            else:\n",
    "                c_build[j] = (chi.fm[str(np.sort(walks[i][0:j+1]))]) - (chi.fm[str(np.sort(walks[i][0:j]))])\n",
    "\n",
    "        walk_diffs[i] = c_build\n",
    "    return walk_diffs"
   ]
  },
  {
   "cell_type": "code",
   "execution_count": null,
   "metadata": {},
   "outputs": [],
   "source": [
    "plt.imshow(odm,cmap='gray')"
   ]
  },
  {
   "cell_type": "code",
   "execution_count": 215,
   "metadata": {},
   "outputs": [],
   "source": [
    "def read_crisp(fname):\n",
    "    part = []\n",
    "    with open(fname) as csvfile:\n",
    "        reader = csv.reader(csvfile,delimiter=',')\n",
    "        for row in reader:\n",
    "            part.append(row)\n",
    "    return np.asarray(part,dtype=int)\n",
    "crisp_part = read_crisp(\"crisp.csv\")"
   ]
  },
  {
   "cell_type": "code",
   "execution_count": 206,
   "metadata": {},
   "outputs": [],
   "source": [
    "#input: crisp partition matrix, reordering from odm to dm, odm itself\n",
    "def center_from_crisp(crisp,reordering,odm):\n",
    "    n = crisp.shape[0]\n",
    "    row = 0\n",
    "    num_in_cluster = 0\n",
    "    cluster_centers = []\n",
    "    for i in range(n):\n",
    "        if crisp[row][i] == 1:\n",
    "            num_in_cluster = num_in_cluster + 1\n",
    "            \n",
    "        else:\n",
    "#             print(\"new cluster at\", i)\n",
    "            mini = np.inf\n",
    "            mini_row = row\n",
    "            for j in range(row,row+num_in_cluster):\n",
    "                row_sum = np.sum(odm[j][i-num_in_cluster:i])\n",
    "                if row_sum < mini:\n",
    "                    mini = row_sum\n",
    "                    mini_row = j\n",
    "            cluster_centers.append(reorder[mini_row][0][0])   #the center is row w/ minimum difference, put back in unordered\n",
    "            row = row+num_in_cluster\n",
    "            num_in_cluster = 1\n",
    "            \n",
    "    mini = np.inf\n",
    "    mini_row = row\n",
    "    for j in range(row,row+num_in_cluster):\n",
    "        row_sum = np.sum(odm[j][i-num_in_cluster+1:i+1])\n",
    "#         print(row_sum, \"sum of row\", j)\n",
    "        if row_sum < mini:\n",
    "            mini = row_sum\n",
    "            mini_row = j\n",
    "    cluster_centers.append(reorder[mini_row][0][0])\n",
    "    return cluster_centers"
   ]
  },
  {
   "cell_type": "code",
   "execution_count": 216,
   "metadata": {},
   "outputs": [
    {
     "data": {
      "text/plain": [
       "[0, 6, 8, 11]"
      ]
     },
     "execution_count": 216,
     "metadata": {},
     "output_type": "execute_result"
    }
   ],
   "source": [
    "\n",
    "center_from_crisp(crisp_part,reorder,odm)"
   ]
  },
  {
   "cell_type": "code",
   "execution_count": 214,
   "metadata": {},
   "outputs": [],
   "source": [
    "with open('odm.csv', 'w') as csvfile:\n",
    "    writer = csv.writer(csvfile, delimiter=',')\n",
    "    for row in odm:\n",
    "        writer.writerow(row)"
   ]
  }
 ],
 "metadata": {
  "kernelspec": {
   "display_name": "Python 3",
   "language": "python",
   "name": "python3"
  },
  "language_info": {
   "codemirror_mode": {
    "name": "ipython",
    "version": 3
   },
   "file_extension": ".py",
   "mimetype": "text/x-python",
   "name": "python",
   "nbconvert_exporter": "python",
   "pygments_lexer": "ipython3",
   "version": "3.8.2"
  }
 },
 "nbformat": 4,
 "nbformat_minor": 4
}
