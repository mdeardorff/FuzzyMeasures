{
 "cells": [
  {
   "cell_type": "code",
   "execution_count": 102,
   "metadata": {},
   "outputs": [],
   "source": [
    "from choquet_integral import *\n",
    "import numpy as np\n",
    "import cv2\n",
    "import itertools\n",
    "import math\n",
    "import inspect\n",
    "import matplotlib.pyplot as plt\n",
    "import csv\n",
    "import sklearn.metrics as metrics\n",
    "from scipy.stats import entropy\n",
    "import random\n",
    "import xai_indices as xai\n",
    "import pyemd\n",
    "from sklearn import datasets\n",
    "from emd_clustertend import vat, ivat, emd_pairwise_dissimilarity\n",
    "from sklearn.preprocessing import scale\n",
    "import scipy.io as sio"
   ]
  },
  {
   "cell_type": "code",
   "execution_count": 25,
   "metadata": {},
   "outputs": [],
   "source": [
    "def random_node_fm(n):\n",
    "    ch = ChoquetIntegral()\n",
    "    ch.type='quad'\n",
    "    ch.fm = {}\n",
    "    ch.fm[str(np.arange(1,n+1))] = 1\n",
    "    ch.fm['[]'] = 0\n",
    "    ch.N = n\n",
    "    ch.M = n\n",
    "    numkeys = len(ch.get_keys_index())\n",
    "    keys = list(ch.get_keys_index().keys())\n",
    "    keys.append('[]')\n",
    "    s = [0] * (numkeys + 1)\n",
    "    s[-1] = 1\n",
    "    s[-2] = 1\n",
    "    done = False\n",
    "    while not done:\n",
    "        randindex = random.randrange(0,numkeys)\n",
    "        if s[randindex] == 0:\n",
    "            s[randindex] = 1\n",
    "            if keys[randindex] != '[]':\n",
    "                compare_key = [int(s) for s in keys[randindex][1:-1].split() if s.isdigit()]\n",
    "\n",
    "            else:\n",
    "                compare_key = []\n",
    "\n",
    "            maxi = 0\n",
    "            max_index = 0\n",
    "            mini = 1\n",
    "            min_index = 0\n",
    "            for i,key in enumerate(keys):\n",
    "                if s[i] == 1 and i != randindex:\n",
    "                    if key != '[]':\n",
    "                        stripped = [int(s) for s in key[1:-1].split() if s.isdigit()]\n",
    "                    else:\n",
    "                        stripped = []\n",
    "\n",
    "                    if is_subset(stripped,compare_key) and s[i] == 1 and ch.fm[key] >= maxi:\n",
    "                        maxi = ch.fm[key]\n",
    "                        max_index = i\n",
    "                    if is_subset(compare_key,stripped) and s[i] == 1 and ch.fm[key] <= mini:\n",
    "\n",
    "                        mini = ch.fm[key]\n",
    "                        min_index = i\n",
    "\n",
    "\n",
    "            rb = ch.fm[keys[max_index]]\n",
    "            ru = ch.fm[keys[min_index]]\n",
    "            g = random.uniform(rb,ru)\n",
    "            ch.fm[keys[randindex]] = g\n",
    "\n",
    "        else:\n",
    "            pass\n",
    "        if min(s) == 1:\n",
    "            done = True\n",
    "    return ch\n",
    "\n",
    "# a is subset of b\n",
    "def is_subset(a,b):\n",
    "    if len(a) == 0:\n",
    "        return True\n",
    "    if len(b) == 0 and len(a) != 0:\n",
    "        return False\n",
    "    for val in a:\n",
    "        if val not in b:\n",
    "            return False\n",
    "    else:\n",
    "        return True\n",
    "    \n",
    "def sample_with_noise(ch,data,mean,var):\n",
    "    labels = np.zeros(data.shape[0])\n",
    "    for i,point in enumerate(data):\n",
    "        labels[i] = max(min(ch.chi_quad(point) + random.gauss(mean,var),1),0)\n",
    "    return labels\n",
    "\n",
    "def gen_datapoints(m,n):\n",
    "    points = []\n",
    "    for i in range(n):\n",
    "        point = []\n",
    "        for j in range(m):\n",
    "            point.append(random.random())\n",
    "        points.append(point)\n",
    "    return np.asarray(points)\n",
    "\n",
    "def percentage_walks_observed(walks):\n",
    "    seen = 0\n",
    "    total = 0\n",
    "    for key in walks.keys():\n",
    "        if walks[key] > 0:\n",
    "            seen = seen + 1\n",
    "        total = total+1\n",
    "    return seen/total\n",
    "\n",
    "def read_crisp(fname):\n",
    "    part = []\n",
    "    with open(fname) as csvfile:\n",
    "        reader = csv.reader(csvfile,delimiter=',')\n",
    "        for row in reader:\n",
    "            part.append(row)\n",
    "    return np.asarray(part,dtype=int)\n",
    "crisp_part = read_crisp(\"crisp.csv\")\n",
    "\n",
    "#input: crisp partition matrix, reordering from odm to dm, odm itself\n",
    "def center_from_crisp(crisp,reordering,odm):\n",
    "    n = crisp.shape[0]\n",
    "    row = 0\n",
    "    num_in_cluster = 0\n",
    "    cluster_centers = []\n",
    "    for i in range(n):\n",
    "        if crisp[row][i] == 1:\n",
    "            num_in_cluster = num_in_cluster + 1\n",
    "            \n",
    "        else:\n",
    "#             print(\"new cluster at\", i)\n",
    "            mini = np.inf\n",
    "            mini_row = row\n",
    "            for j in range(row,row+num_in_cluster):\n",
    "                row_sum = np.sum(odm[j][i-num_in_cluster:i])\n",
    "                if row_sum < mini:\n",
    "                    mini = row_sum\n",
    "                    mini_row = j\n",
    "            cluster_centers.append(reorder[mini_row][0][0])   #the center is row w/ minimum difference, put back in unordered\n",
    "            row = row+num_in_cluster\n",
    "            num_in_cluster = 1\n",
    "            \n",
    "    mini = np.inf\n",
    "    mini_row = row\n",
    "    for j in range(row,row+num_in_cluster):\n",
    "        row_sum = np.sum(odm[j][i-num_in_cluster+1:i+1])\n",
    "#         print(row_sum, \"sum of row\", j)\n",
    "        if row_sum < mini:\n",
    "            mini = row_sum\n",
    "            mini_row = j\n",
    "    cluster_centers.append(reorder[mini_row][0][0])\n",
    "    return cluster_centers\n",
    "\n",
    "def generate_walk_diffs(chi):\n",
    "    n = chi.M\n",
    "    initial = []\n",
    "    for i in range(n):\n",
    "        initial.append(i+1)\n",
    "\n",
    "    index_permutations = itertools.permutations(initial,n)\n",
    "    walks = np.ndarray((math.factorial(n),n),dtype=int)\n",
    "    walk_diffs = np.ndarray((math.factorial(n),n),dtype=float)\n",
    "    for i,val in enumerate(index_permutations):\n",
    "        walks[i] = np.asarray(val)\n",
    "\n",
    "        c_build = np.ndarray(n)\n",
    "        for j in range(len(walks[i])):\n",
    "            if j == 0:\n",
    "                c_build[j] = chi.fm[str(walks[i][0:1])]\n",
    "            else:\n",
    "                c_build[j] = (chi.fm[str(np.sort(walks[i][0:j+1]))]) - (chi.fm[str(np.sort(walks[i][0:j]))])\n",
    "\n",
    "        walk_diffs[i] = c_build\n",
    "    return walk_diffs\n",
    "\n",
    "\n",
    "def gen_seen_walk_diffs(walk_visitation,ch):\n",
    "    seen_walks = []\n",
    "    for walk in walk_visitation.keys():\n",
    "        if walk_visitation[walk] > 0:\n",
    "            seen_walks.append(walk)\n",
    "    \n",
    "    n = len(seen_walks[0])\n",
    "    walk_diffs = np.ndarray((len(seen_walks),n),dtype=float)\n",
    "    for i,walk in enumerate(seen_walks):\n",
    "        walk = list(walk)\n",
    "        c_build = np.ndarray(n)\n",
    "        for j in range(len(walk)):\n",
    "            if j == 0:\n",
    "                c_build[j] = ch.fm[str(walk[0:1])]\n",
    "            else:\n",
    "                c_build[j] = ch.fm[str(np.sort(walk[0:j+1]))] - ch.fm[str(np.sort(walk[0:j]))]\n",
    "        walk_diffs[i] = c_build\n",
    "    return walk_diffs\n",
    "        "
   ]
  },
  {
   "cell_type": "code",
   "execution_count": null,
   "metadata": {},
   "outputs": [],
   "source": []
  },
  {
   "cell_type": "code",
   "execution_count": 166,
   "metadata": {},
   "outputs": [
    {
     "name": "stdout",
     "output_type": "stream",
     "text": [
      "{'[1]': 1, '[2]': 0, '[3]': 0, '[4]': 0, '[1 2]': 1, '[1 3]': 1, '[1 4]': 1, '[2 3]': 0, '[2 4]': 0, '[3 4]': 0, '[1 2 3]': 1, '[1 2 4]': 1, '[1 3 4]': 1, '[2 3 4]': 0, '[1 2 3 4]': 1}\n",
      "[[0.       0.       0.       0.       0.       0.       0.999999 0.999999\n",
      "  2.000001 3.       2.000001 3.       0.999999 0.999999 2.000001 3.\n",
      "  2.000001 3.       0.999999 0.999999 2.000001 3.       2.000001 3.      ]\n",
      " [0.       0.       0.       0.       0.       0.       0.999999 0.999999\n",
      "  2.000001 3.       2.000001 3.       0.999999 0.999999 2.000001 3.\n",
      "  2.000001 3.       0.999999 0.999999 2.000001 3.       2.000001 3.      ]\n",
      " [0.       0.       0.       0.       0.       0.       0.999999 0.999999\n",
      "  2.000001 3.       2.000001 3.       0.999999 0.999999 2.000001 3.\n",
      "  2.000001 3.       0.999999 0.999999 2.000001 3.       2.000001 3.      ]\n",
      " [0.       0.       0.       0.       0.       0.       0.999999 0.999999\n",
      "  2.000001 3.       2.000001 3.       0.999999 0.999999 2.000001 3.\n",
      "  2.000001 3.       0.999999 0.999999 2.000001 3.       2.000001 3.      ]\n",
      " [0.       0.       0.       0.       0.       0.       0.999999 0.999999\n",
      "  2.000001 3.       2.000001 3.       0.999999 0.999999 2.000001 3.\n",
      "  2.000001 3.       0.999999 0.999999 2.000001 3.       2.000001 3.      ]\n",
      " [0.       0.       0.       0.       0.       0.       0.999999 0.999999\n",
      "  2.000001 3.       2.000001 3.       0.999999 0.999999 2.000001 3.\n",
      "  2.000001 3.       0.999999 0.999999 2.000001 3.       2.000001 3.      ]\n",
      " [0.999999 0.999999 0.999999 0.999999 0.999999 0.999999 0.       0.\n",
      "  0.999999 2.000001 0.999999 2.000001 0.       0.       0.999999 2.000001\n",
      "  0.999999 2.000001 0.       0.       0.999999 2.000001 0.999999 2.000001]\n",
      " [0.999999 0.999999 0.999999 0.999999 0.999999 0.999999 0.       0.\n",
      "  0.999999 2.000001 0.999999 2.000001 0.       0.       0.999999 2.000001\n",
      "  0.999999 2.000001 0.       0.       0.999999 2.000001 0.999999 2.000001]\n",
      " [2.000001 2.000001 2.000001 2.000001 2.000001 2.000001 0.999999 0.999999\n",
      "  0.       0.999999 0.       0.999999 0.999999 0.999999 0.       0.999999\n",
      "  0.       0.999999 0.999999 0.999999 0.       0.999999 0.       0.999999]\n",
      " [3.       3.       3.       3.       3.       3.       2.000001 2.000001\n",
      "  0.999999 0.       0.999999 0.       2.000001 2.000001 0.999999 0.\n",
      "  0.999999 0.       2.000001 2.000001 0.999999 0.       0.999999 0.      ]\n",
      " [2.000001 2.000001 2.000001 2.000001 2.000001 2.000001 0.999999 0.999999\n",
      "  0.       0.999999 0.       0.999999 0.999999 0.999999 0.       0.999999\n",
      "  0.       0.999999 0.999999 0.999999 0.       0.999999 0.       0.999999]\n",
      " [3.       3.       3.       3.       3.       3.       2.000001 2.000001\n",
      "  0.999999 0.       0.999999 0.       2.000001 2.000001 0.999999 0.\n",
      "  0.999999 0.       2.000001 2.000001 0.999999 0.       0.999999 0.      ]\n",
      " [0.999999 0.999999 0.999999 0.999999 0.999999 0.999999 0.       0.\n",
      "  0.999999 2.000001 0.999999 2.000001 0.       0.       0.999999 2.000001\n",
      "  0.999999 2.000001 0.       0.       0.999999 2.000001 0.999999 2.000001]\n",
      " [0.999999 0.999999 0.999999 0.999999 0.999999 0.999999 0.       0.\n",
      "  0.999999 2.000001 0.999999 2.000001 0.       0.       0.999999 2.000001\n",
      "  0.999999 2.000001 0.       0.       0.999999 2.000001 0.999999 2.000001]\n",
      " [2.000001 2.000001 2.000001 2.000001 2.000001 2.000001 0.999999 0.999999\n",
      "  0.       0.999999 0.       0.999999 0.999999 0.999999 0.       0.999999\n",
      "  0.       0.999999 0.999999 0.999999 0.       0.999999 0.       0.999999]\n",
      " [3.       3.       3.       3.       3.       3.       2.000001 2.000001\n",
      "  0.999999 0.       0.999999 0.       2.000001 2.000001 0.999999 0.\n",
      "  0.999999 0.       2.000001 2.000001 0.999999 0.       0.999999 0.      ]\n",
      " [2.000001 2.000001 2.000001 2.000001 2.000001 2.000001 0.999999 0.999999\n",
      "  0.       0.999999 0.       0.999999 0.999999 0.999999 0.       0.999999\n",
      "  0.       0.999999 0.999999 0.999999 0.       0.999999 0.       0.999999]\n",
      " [3.       3.       3.       3.       3.       3.       2.000001 2.000001\n",
      "  0.999999 0.       0.999999 0.       2.000001 2.000001 0.999999 0.\n",
      "  0.999999 0.       2.000001 2.000001 0.999999 0.       0.999999 0.      ]\n",
      " [0.999999 0.999999 0.999999 0.999999 0.999999 0.999999 0.       0.\n",
      "  0.999999 2.000001 0.999999 2.000001 0.       0.       0.999999 2.000001\n",
      "  0.999999 2.000001 0.       0.       0.999999 2.000001 0.999999 2.000001]\n",
      " [0.999999 0.999999 0.999999 0.999999 0.999999 0.999999 0.       0.\n",
      "  0.999999 2.000001 0.999999 2.000001 0.       0.       0.999999 2.000001\n",
      "  0.999999 2.000001 0.       0.       0.999999 2.000001 0.999999 2.000001]\n",
      " [2.000001 2.000001 2.000001 2.000001 2.000001 2.000001 0.999999 0.999999\n",
      "  0.       0.999999 0.       0.999999 0.999999 0.999999 0.       0.999999\n",
      "  0.       0.999999 0.999999 0.999999 0.       0.999999 0.       0.999999]\n",
      " [3.       3.       3.       3.       3.       3.       2.000001 2.000001\n",
      "  0.999999 0.       0.999999 0.       2.000001 2.000001 0.999999 0.\n",
      "  0.999999 0.       2.000001 2.000001 0.999999 0.       0.999999 0.      ]\n",
      " [2.000001 2.000001 2.000001 2.000001 2.000001 2.000001 0.999999 0.999999\n",
      "  0.       0.999999 0.       0.999999 0.999999 0.999999 0.       0.999999\n",
      "  0.       0.999999 0.999999 0.999999 0.       0.999999 0.       0.999999]\n",
      " [3.       3.       3.       3.       3.       3.       2.000001 2.000001\n",
      "  0.999999 0.       0.999999 0.       2.000001 2.000001 0.999999 0.\n",
      "  0.999999 0.       2.000001 2.000001 0.999999 0.       0.999999 0.      ]]\n",
      "[[0.         0.         0.         0.         0.         0.\n",
      "  1.41421356 1.41421356 1.41421356 1.41421356 1.41421356 1.41421356\n",
      "  1.41421356 1.41421356 1.41421356 1.41421356 1.41421356 1.41421356\n",
      "  1.41421356 1.41421356 1.41421356 1.41421356 1.41421356 1.41421356]\n",
      " [0.         0.         0.         0.         0.         0.\n",
      "  1.41421356 1.41421356 1.41421356 1.41421356 1.41421356 1.41421356\n",
      "  1.41421356 1.41421356 1.41421356 1.41421356 1.41421356 1.41421356\n",
      "  1.41421356 1.41421356 1.41421356 1.41421356 1.41421356 1.41421356]\n",
      " [0.         0.         0.         0.         0.         0.\n",
      "  1.41421356 1.41421356 1.41421356 1.41421356 1.41421356 1.41421356\n",
      "  1.41421356 1.41421356 1.41421356 1.41421356 1.41421356 1.41421356\n",
      "  1.41421356 1.41421356 1.41421356 1.41421356 1.41421356 1.41421356]\n",
      " [0.         0.         0.         0.         0.         0.\n",
      "  1.41421356 1.41421356 1.41421356 1.41421356 1.41421356 1.41421356\n",
      "  1.41421356 1.41421356 1.41421356 1.41421356 1.41421356 1.41421356\n",
      "  1.41421356 1.41421356 1.41421356 1.41421356 1.41421356 1.41421356]\n",
      " [0.         0.         0.         0.         0.         0.\n",
      "  1.41421356 1.41421356 1.41421356 1.41421356 1.41421356 1.41421356\n",
      "  1.41421356 1.41421356 1.41421356 1.41421356 1.41421356 1.41421356\n",
      "  1.41421356 1.41421356 1.41421356 1.41421356 1.41421356 1.41421356]\n",
      " [0.         0.         0.         0.         0.         0.\n",
      "  1.41421356 1.41421356 1.41421356 1.41421356 1.41421356 1.41421356\n",
      "  1.41421356 1.41421356 1.41421356 1.41421356 1.41421356 1.41421356\n",
      "  1.41421356 1.41421356 1.41421356 1.41421356 1.41421356 1.41421356]\n",
      " [1.41421356 1.41421356 1.41421356 1.41421356 1.41421356 1.41421356\n",
      "  0.         0.         1.41421356 1.41421356 1.41421356 1.41421356\n",
      "  0.         0.         1.41421356 1.41421356 1.41421356 1.41421356\n",
      "  0.         0.         1.41421356 1.41421356 1.41421356 1.41421356]\n",
      " [1.41421356 1.41421356 1.41421356 1.41421356 1.41421356 1.41421356\n",
      "  0.         0.         1.41421356 1.41421356 1.41421356 1.41421356\n",
      "  0.         0.         1.41421356 1.41421356 1.41421356 1.41421356\n",
      "  0.         0.         1.41421356 1.41421356 1.41421356 1.41421356]\n",
      " [1.41421356 1.41421356 1.41421356 1.41421356 1.41421356 1.41421356\n",
      "  1.41421356 1.41421356 0.         1.41421356 0.         1.41421356\n",
      "  1.41421356 1.41421356 0.         1.41421356 0.         1.41421356\n",
      "  1.41421356 1.41421356 0.         1.41421356 0.         1.41421356]\n",
      " [1.41421356 1.41421356 1.41421356 1.41421356 1.41421356 1.41421356\n",
      "  1.41421356 1.41421356 1.41421356 0.         1.41421356 0.\n",
      "  1.41421356 1.41421356 1.41421356 0.         1.41421356 0.\n",
      "  1.41421356 1.41421356 1.41421356 0.         1.41421356 0.        ]\n",
      " [1.41421356 1.41421356 1.41421356 1.41421356 1.41421356 1.41421356\n",
      "  1.41421356 1.41421356 0.         1.41421356 0.         1.41421356\n",
      "  1.41421356 1.41421356 0.         1.41421356 0.         1.41421356\n",
      "  1.41421356 1.41421356 0.         1.41421356 0.         1.41421356]\n",
      " [1.41421356 1.41421356 1.41421356 1.41421356 1.41421356 1.41421356\n",
      "  1.41421356 1.41421356 1.41421356 0.         1.41421356 0.\n",
      "  1.41421356 1.41421356 1.41421356 0.         1.41421356 0.\n",
      "  1.41421356 1.41421356 1.41421356 0.         1.41421356 0.        ]\n",
      " [1.41421356 1.41421356 1.41421356 1.41421356 1.41421356 1.41421356\n",
      "  0.         0.         1.41421356 1.41421356 1.41421356 1.41421356\n",
      "  0.         0.         1.41421356 1.41421356 1.41421356 1.41421356\n",
      "  0.         0.         1.41421356 1.41421356 1.41421356 1.41421356]\n",
      " [1.41421356 1.41421356 1.41421356 1.41421356 1.41421356 1.41421356\n",
      "  0.         0.         1.41421356 1.41421356 1.41421356 1.41421356\n",
      "  0.         0.         1.41421356 1.41421356 1.41421356 1.41421356\n",
      "  0.         0.         1.41421356 1.41421356 1.41421356 1.41421356]\n",
      " [1.41421356 1.41421356 1.41421356 1.41421356 1.41421356 1.41421356\n",
      "  1.41421356 1.41421356 0.         1.41421356 0.         1.41421356\n",
      "  1.41421356 1.41421356 0.         1.41421356 0.         1.41421356\n",
      "  1.41421356 1.41421356 0.         1.41421356 0.         1.41421356]\n",
      " [1.41421356 1.41421356 1.41421356 1.41421356 1.41421356 1.41421356\n",
      "  1.41421356 1.41421356 1.41421356 0.         1.41421356 0.\n",
      "  1.41421356 1.41421356 1.41421356 0.         1.41421356 0.\n",
      "  1.41421356 1.41421356 1.41421356 0.         1.41421356 0.        ]\n",
      " [1.41421356 1.41421356 1.41421356 1.41421356 1.41421356 1.41421356\n",
      "  1.41421356 1.41421356 0.         1.41421356 0.         1.41421356\n",
      "  1.41421356 1.41421356 0.         1.41421356 0.         1.41421356\n",
      "  1.41421356 1.41421356 0.         1.41421356 0.         1.41421356]\n",
      " [1.41421356 1.41421356 1.41421356 1.41421356 1.41421356 1.41421356\n",
      "  1.41421356 1.41421356 1.41421356 0.         1.41421356 0.\n",
      "  1.41421356 1.41421356 1.41421356 0.         1.41421356 0.\n",
      "  1.41421356 1.41421356 1.41421356 0.         1.41421356 0.        ]\n",
      " [1.41421356 1.41421356 1.41421356 1.41421356 1.41421356 1.41421356\n",
      "  0.         0.         1.41421356 1.41421356 1.41421356 1.41421356\n",
      "  0.         0.         1.41421356 1.41421356 1.41421356 1.41421356\n",
      "  0.         0.         1.41421356 1.41421356 1.41421356 1.41421356]\n",
      " [1.41421356 1.41421356 1.41421356 1.41421356 1.41421356 1.41421356\n",
      "  0.         0.         1.41421356 1.41421356 1.41421356 1.41421356\n",
      "  0.         0.         1.41421356 1.41421356 1.41421356 1.41421356\n",
      "  0.         0.         1.41421356 1.41421356 1.41421356 1.41421356]\n",
      " [1.41421356 1.41421356 1.41421356 1.41421356 1.41421356 1.41421356\n",
      "  1.41421356 1.41421356 0.         1.41421356 0.         1.41421356\n",
      "  1.41421356 1.41421356 0.         1.41421356 0.         1.41421356\n",
      "  1.41421356 1.41421356 0.         1.41421356 0.         1.41421356]\n",
      " [1.41421356 1.41421356 1.41421356 1.41421356 1.41421356 1.41421356\n",
      "  1.41421356 1.41421356 1.41421356 0.         1.41421356 0.\n",
      "  1.41421356 1.41421356 1.41421356 0.         1.41421356 0.\n",
      "  1.41421356 1.41421356 1.41421356 0.         1.41421356 0.        ]\n",
      " [1.41421356 1.41421356 1.41421356 1.41421356 1.41421356 1.41421356\n",
      "  1.41421356 1.41421356 0.         1.41421356 0.         1.41421356\n",
      "  1.41421356 1.41421356 0.         1.41421356 0.         1.41421356\n",
      "  1.41421356 1.41421356 0.         1.41421356 0.         1.41421356]\n",
      " [1.41421356 1.41421356 1.41421356 1.41421356 1.41421356 1.41421356\n",
      "  1.41421356 1.41421356 1.41421356 0.         1.41421356 0.\n",
      "  1.41421356 1.41421356 1.41421356 0.         1.41421356 0.\n",
      "  1.41421356 1.41421356 1.41421356 0.         1.41421356 0.        ]]\n"
     ]
    }
   ],
   "source": [
    "custom = ChoquetIntegral()\n",
    "custom.N = 4\n",
    "customfm = {}\n",
    "customfm[str(np.asarray([1]))] = 1\n",
    "customfm[str(np.asarray([2]))] = 0\n",
    "customfm[str(np.asarray([3]))] = 0\n",
    "customfm[str(np.asarray([4]))] = 0\n",
    "customfm[str(np.asarray([1,2]))] = 1\n",
    "customfm[str(np.asarray([1,3]))] = 1\n",
    "customfm[str(np.asarray([1,4]))] = 1\n",
    "customfm[str(np.asarray([2,3]))] = 0\n",
    "customfm[str(np.asarray([2,4]))] = 0\n",
    "customfm[str(np.asarray([3,4]))] = 0\n",
    "customfm[str(np.asarray([1,2,3]))] = 1\n",
    "customfm[str(np.asarray([1,2,4]))] = 1\n",
    "customfm[str(np.asarray([1,3,4]))] = 1\n",
    "customfm[str(np.asarray([2,3,4]))] = 0\n",
    "customfm[str(np.asarray([1,2,3,4]))] = 1\n",
    "\n",
    "custom.fm = customfm\n",
    "custom.type='quad'\n",
    "print(custom.fm)\n",
    "\n",
    "gradual_diffs = custom.generate_walk_diffs()\n",
    "emd_odm = emd_pairwise_dissimilarity(gradual_diffs)\n",
    "lp_odm = metrics.pairwise_distances(gradual_diffs)\n",
    "mat = {}\n",
    "mat[\"emd_odm\"] = emd_odm\n",
    "mat[\"lp_odm\"] = lp_odm\n",
    "sio.savemat(\"gradual_mat.mat\",mat)\n",
    "\n",
    "print(emd_odm)\n",
    "print(lp_odm)"
   ]
  },
  {
   "cell_type": "code",
   "execution_count": 94,
   "metadata": {},
   "outputs": [],
   "source": [
    "split_owa = ChoquetIntegral()\n",
    "split_owa.N = 5\n",
    "split_fm = {}\n",
    "split_fm[str(np.asarray([1]))] = .1\n",
    "split_fm[str(np.asarray([2]))] = .1\n",
    "split_fm[str(np.asarray([3]))] = .1\n",
    "split_fm[str(np.asarray([4]))] = .1\n",
    "split_fm[str(np.asarray([5]))] = .1\n",
    "split_fm[str(np.asarray([1,2]))] = .2\n",
    "split_fm[str(np.asarray([1,3]))] = .2\n",
    "split_fm[str(np.asarray([1,4]))] = .2\n",
    "split_fm[str(np.asarray([1,5]))] = .2\n",
    "split_fm[str(np.asarray([2,3]))] = .2\n",
    "split_fm[str(np.asarray([2,4]))] = .4\n",
    "split_fm[str(np.asarray([2,5]))] = .4\n",
    "split_fm[str(np.asarray([3,4]))] = .4\n",
    "split_fm[str(np.asarray([3,5]))] = .4\n",
    "split_fm[str(np.asarray([4,5]))] = .4\n",
    "split_fm[str(np.asarray([1,2,3]))] = .6\n",
    "split_fm[str(np.asarray([1,2,4]))] = .6\n",
    "split_fm[str(np.asarray([1,2,5]))] = .6\n",
    "split_fm[str(np.asarray([1,3,4]))] = .6\n",
    "split_fm[str(np.asarray([1,3,5]))] = .6\n",
    "split_fm[str(np.asarray([1,4,5]))] = .6\n",
    "split_fm[str(np.asarray([2,3,4]))] = .6\n",
    "split_fm[str(np.asarray([2,3,5]))] = .6\n",
    "split_fm[str(np.asarray([2,4,5]))] = .6\n",
    "split_fm[str(np.asarray([3,4,5]))] = .6\n",
    "split_fm[str(np.asarray([1,2,3,4]))] = .6\n",
    "split_fm[str(np.asarray([1,2,3,5]))] = .6\n",
    "split_fm[str(np.asarray([1,2,4,5]))] = .6\n",
    "split_fm[str(np.asarray([1,3,4,5]))] = .9\n",
    "split_fm[str(np.asarray([2,3,4,5]))] = .9\n",
    "split_fm[str(np.asarray([1,2,3,4,5]))] = 1\n",
    "split_owa.fm = split_fm\n",
    "split_owa.type ='quad'"
   ]
  },
  {
   "cell_type": "code",
   "execution_count": null,
   "metadata": {},
   "outputs": [],
   "source": [
    "max_min = ChoquetIntegral()\n",
    "max_min.N = 5\n",
    "max_min.M = 5\n",
    "max_min_fm = {}\n",
    "max_min_fm['[]'] = 0\n",
    "max_min_fm[str(np.asarray([1]))] = .1\n",
    "max_min_fm[str(np.asarray([2]))] = 0\n",
    "max_min_fm[str(np.asarray([3]))] = 0\n",
    "max_min_fm[str(np.asarray([4]))] = 0\n",
    "max_min_fm[str(np.asarray([5]))] = 0\n",
    "max_min_fm[str(np.asarray([1,2]))] = .1\n",
    "max_min_fm[str(np.asarray([1,3]))] = .1\n",
    "max_min_fm[str(np.asarray([1,4]))] = .1\n",
    "max_min_fm[str(np.asarray([1,5]))] = .1\n",
    "max_min_fm[str(np.asarray([2,3]))] = 0\n",
    "max_min_fm[str(np.asarray([2,4]))] = 0\n",
    "max_min_fm[str(np.asarray([2,5]))] = 0\n",
    "max_min_fm[str(np.asarray([3,4]))] = 0\n",
    "max_min_fm[str(np.asarray([3,5]))] = 0\n",
    "max_min_fm[str(np.asarray([4,5]))] = 0\n",
    "max_min_fm[str(np.asarray([1,2,3]))] = .1\n",
    "max_min_fm[str(np.asarray([1,2,4]))] = .1\n",
    "max_min_fm[str(np.asarray([1,2,5]))] = .1\n",
    "max_min_fm[str(np.asarray([1,3,4]))] = .1\n",
    "max_min_fm[str(np.asarray([1,3,5]))] = .1\n",
    "max_min_fm[str(np.asarray([1,4,5]))] = .1\n",
    "max_min_fm[str(np.asarray([2,3,4]))] = 0\n",
    "max_min_fm[str(np.asarray([2,3,5]))] = 0\n",
    "max_min_fm[str(np.asarray([2,4,5]))] = 0\n",
    "max_min_fm[str(np.asarray([3,4,5]))] = 0\n",
    "max_min_fm[str(np.asarray([1,2,3,4]))] = .1001\n",
    "max_min_fm[str(np.asarray([1,2,3,5]))] = .1001\n",
    "max_min_fm[str(np.asarray([1,2,4,5]))] = .1001\n",
    "max_min_fm[str(np.asarray([1,3,4,5]))] = .1001\n",
    "max_min_fm[str(np.asarray([2,3,4,5]))] = 0\n",
    "max_min_fm[str(np.asarray([1,2,3,4,5]))] = 1\n",
    "max_min.fm = max_min_fm\n",
    "max_min.type ='quad'"
   ]
  },
  {
   "cell_type": "code",
   "execution_count": null,
   "metadata": {},
   "outputs": [],
   "source": [
    "max_min.fm\n",
    "max_min_diffs = max_min.generate_walk_diffs()\n",
    "ivat(max_min_diffs)\n",
    "ivat(max_min_diffs,euclidean=True)"
   ]
  },
  {
   "cell_type": "code",
   "execution_count": 128,
   "metadata": {},
   "outputs": [
    {
     "name": "stdout",
     "output_type": "stream",
     "text": [
      "Number Inputs :  5 ; Number Samples :  300\n",
      "     pcost       dcost       gap    pres   dres\n",
      " 0: -6.9316e+01 -8.5022e+01  1e+02  9e+00  3e-01\n",
      " 1: -6.8664e+01 -8.5189e+01  3e+01  1e+00  4e-02\n",
      " 2: -6.9321e+01 -7.3044e+01  4e+00  6e-02  2e-03\n",
      " 3: -6.9558e+01 -7.0344e+01  8e-01  9e-03  2e-04\n",
      " 4: -6.9629e+01 -6.9827e+01  2e-01  9e-05  2e-06\n",
      " 5: -6.9640e+01 -6.9658e+01  2e-02  9e-07  2e-08\n",
      " 6: -6.9641e+01 -6.9642e+01  8e-04  2e-08  4e-10\n",
      " 7: -6.9641e+01 -6.9642e+01  4e-05  2e-10  4e-12\n",
      "Optimal solution found.\n",
      "0.9416666666666667\n"
     ]
    },
    {
     "name": "stderr",
     "output_type": "stream",
     "text": [
      " 99%|█████████████████████████████████████████████████████████████████████████████▎| 119/120 [00:00<00:00, 1355.62it/s]\n",
      "100%|████████████████████████████████████████████████████████████████████████| 14400/14400 [00:00<00:00, 481277.96it/s]"
     ]
    },
    {
     "name": "stdout",
     "output_type": "stream",
     "text": [
      "starting step 2\n",
      "starting step 3\n"
     ]
    },
    {
     "name": "stderr",
     "output_type": "stream",
     "text": [
      "\n",
      " 99%|█████████████████████████████████████████████████████████████████████████████▎| 119/120 [00:00<00:00, 1403.36it/s]\n",
      "100%|████████████████████████████████████████████████████████████████████████| 14400/14400 [00:00<00:00, 481323.98it/s]"
     ]
    },
    {
     "name": "stdout",
     "output_type": "stream",
     "text": [
      "starting step 2\n",
      "starting step 3\n"
     ]
    },
    {
     "name": "stderr",
     "output_type": "stream",
     "text": [
      "\n"
     ]
    },
    {
     "data": {
      "image/png": "[encoded data removed]",
      "text/plain": [
       "<Figure size 360x360 with 1 Axes>"
      ]
     },
     "metadata": {
      "needs_background": "light"
     },
     "output_type": "display_data"
    },
    {
     "data": {
      "image/png": "[encoded data removed]",
      "text/plain": [
       "<Figure size 360x360 with 1 Axes>"
      ]
     },
     "metadata": {
      "needs_background": "light"
     },
     "output_type": "display_data"
    }
   ],
   "source": [
    "data = gen_datapoints(5,300)\n",
    "noisy_labels = sample_with_noise(split_owa,data,0,.025)\n",
    "\n",
    "noisy_split_owa = ChoquetIntegral()\n",
    "noisy_split_owa.train_chi(data.T,noisy_labels)\n",
    "\n",
    "(walks,_) = xai.walk_visitation(data.T)\n",
    "# print(walks)\n",
    "print(percentage_walks_observed(walks))\n",
    "\n",
    "owa_diffs = split_owa.generate_walk_diffs()\n",
    "ivat(owa_diffs,figure_size=(5,5))\n",
    "noisy_owa_diffs = noisy_split_owa.generate_walk_diffs()\n",
    "odm = ivat(noisy_owa_diffs,figure_size=(5,5),return_odm=True)"
   ]
  },
  {
   "cell_type": "code",
   "execution_count": null,
   "metadata": {},
   "outputs": [],
   "source": [
    "plt.imshow(odm,cmap=\"gray\")\n",
    "plt.savefig(\"split_owa_no_error.png\")"
   ]
  },
  {
   "cell_type": "code",
   "execution_count": null,
   "metadata": {},
   "outputs": [],
   "source": [
    "data = gen_datapoints(4,200)\n",
    "noisy_labels = sample_with_noise(split_owa,data,0,0)\n",
    "\n",
    "noisy_chi = ChoquetIntegral()\n",
    "noisy_chi.train_chi(data.T,noisy_labels)\n",
    "\n",
    "xai.walk_visitation(data.T)"
   ]
  },
  {
   "cell_type": "code",
   "execution_count": null,
   "metadata": {},
   "outputs": [],
   "source": [
    "(walks,_) = xai.walk_visitation(data.T)\n",
    "\n",
    "\n",
    "percentage_walks_observed(walks)\n",
    "# print(walks.keys())"
   ]
  },
  {
   "cell_type": "code",
   "execution_count": 91,
   "metadata": {},
   "outputs": [
    {
     "name": "stderr",
     "output_type": "stream",
     "text": [
      "  4%|███▎                                                                            | 30/720 [00:00<00:02, 292.11it/s]"
     ]
    },
    {
     "name": "stdout",
     "output_type": "stream",
     "text": [
      "starting step 2\n"
     ]
    },
    {
     "name": "stderr",
     "output_type": "stream",
     "text": [
      "100%|███████████████████████████████████████████████████████████████████████████████▉| 719/720 [00:17<00:00, 41.14it/s]\n",
      " 10%|███████▏                                                               | 52323/518400 [00:00<00:00, 519437.17it/s]"
     ]
    },
    {
     "name": "stdout",
     "output_type": "stream",
     "text": [
      "starting step 3\n"
     ]
    },
    {
     "name": "stderr",
     "output_type": "stream",
     "text": [
      "100%|██████████████████████████████████████████████████████████████████████| 518400/518400 [00:00<00:00, 525264.13it/s]\n"
     ]
    },
    {
     "data": {
      "image/png": "[encoded data removed]",
      "text/plain": [
       "<Figure size 360x360 with 1 Axes>"
      ]
     },
     "metadata": {
      "needs_background": "light"
     },
     "output_type": "display_data"
    }
   ],
   "source": [
    "\n",
    "ch = random_node_fm(6)\n",
    "\n",
    "diffs = ch.generate_walk_diffs()\n",
    "odm = ivat(diffs,return_odm=True,figure_size=(5,5),euclidean=False)\n",
    "\n",
    "# odm,reorder = ivat(diffs,return_odm=True,euclidean=True)"
   ]
  },
  {
   "cell_type": "code",
   "execution_count": 153,
   "metadata": {},
   "outputs": [
    {
     "name": "stdout",
     "output_type": "stream",
     "text": [
      "Number Inputs :  5 ; Number Samples :  14\n",
      "     pcost       dcost       gap    pres   dres\n",
      " 0: -5.3573e+00 -1.7480e+01  1e+02  9e+00  4e+00\n",
      " 1: -5.1170e+00 -2.3010e+01  3e+01  2e+00  7e-01\n",
      " 2: -5.2191e+00 -9.5745e+00  4e+00  2e-02  7e-03\n",
      " 3: -5.2775e+00 -6.7142e+00  1e+00  5e-03  2e-03\n",
      " 4: -5.4062e+00 -5.9178e+00  5e-01  5e-05  2e-05\n",
      " 5: -5.4311e+00 -5.4913e+00  6e-02  3e-06  1e-06\n",
      " 6: -5.4354e+00 -5.4505e+00  2e-02  7e-07  3e-07\n",
      " 7: -5.4369e+00 -5.4409e+00  4e-03  7e-09  3e-09\n",
      " 8: -5.4371e+00 -5.4375e+00  4e-04  7e-11  3e-11\n",
      " 9: -5.4371e+00 -5.4371e+00  1e-05  1e-12  5e-13\n",
      "10: -5.4371e+00 -5.4371e+00  2e-07  1e-14  8e-13\n",
      "Optimal solution found.\n",
      "Observed: 0.10833333333333334 %\n"
     ]
    },
    {
     "name": "stderr",
     "output_type": "stream",
     "text": [
      " 99%|█████████████████████████████████████████████████████████████████████████████▎| 119/120 [00:00<00:00, 1355.48it/s]\n",
      "100%|████████████████████████████████████████████████████████████████████████| 14400/14400 [00:00<00:00, 480860.30it/s]"
     ]
    },
    {
     "name": "stdout",
     "output_type": "stream",
     "text": [
      "starting step 2\n",
      "starting step 3\n"
     ]
    },
    {
     "name": "stderr",
     "output_type": "stream",
     "text": [
      "\n",
      " 99%|█████████████████████████████████████████████████████████████████████████████▎| 119/120 [00:00<00:00, 1387.07it/s]\n",
      "100%|████████████████████████████████████████████████████████████████████████| 14400/14400 [00:00<00:00, 480902.42it/s]\n",
      " 92%|████████████████████████████████████████████████████████████████████████▉      | 12/13 [00:00<00:00, 11715.93it/s]\n",
      "100%|████████████████████████████████████████████████████████████████████████████████████████| 169/169 [00:00<?, ?it/s]"
     ]
    },
    {
     "name": "stdout",
     "output_type": "stream",
     "text": [
      "starting step 2\n",
      "starting step 3\n",
      "starting step 2\n",
      "starting step 3\n"
     ]
    },
    {
     "name": "stderr",
     "output_type": "stream",
     "text": [
      "\n"
     ]
    },
    {
     "data": {
      "image/png": "[encoded data removed]",
      "text/plain": [
       "<Figure size 360x360 with 1 Axes>"
      ]
     },
     "metadata": {
      "needs_background": "light"
     },
     "output_type": "display_data"
    },
    {
     "data": {
      "image/png": "[encoded data removed]",
      "text/plain": [
       "<Figure size 360x360 with 1 Axes>"
      ]
     },
     "metadata": {
      "needs_background": "light"
     },
     "output_type": "display_data"
    },
    {
     "data": {
      "image/png": "[encoded data removed]",
      "text/plain": [
       "<Figure size 360x360 with 1 Axes>"
      ]
     },
     "metadata": {
      "needs_background": "light"
     },
     "output_type": "display_data"
    }
   ],
   "source": [
    "random.seed(14)\n",
    "ch = random_node_fm(5)\n",
    "true_diffs = ch.generate_walk_diffs()\n",
    "\n",
    "data = gen_datapoints(5,14)\n",
    "labels = sample_with_noise(ch,data,0,0)\n",
    "\n",
    "trained_ch = ChoquetIntegral()\n",
    "trained_ch.train_chi(data.T,labels)\n",
    "(walks,_) = xai.walk_visitation(data.T)\n",
    "print(\"Observed:\",percentage_walks_observed(walks),\"%\")\n",
    "all_diffs = trained_ch.generate_walk_diffs()\n",
    "\n",
    "seen_diffs = gen_seen_walk_diffs(walks,trained_ch)\n",
    "\n",
    "ivat(true_diffs,figure_size=(5,5))\n",
    "ivat(all_diffs,figure_size=(5,5))\n",
    "ivat(seen_diffs,figure_size=(5,5))"
   ]
  },
  {
   "cell_type": "code",
   "execution_count": null,
   "metadata": {},
   "outputs": [],
   "source": [
    "img = cv2.imread(\"split_owa_noisy_.025.png\")\n",
    "y,x = img.shape[0], img.shape[1]\n",
    "img = img[10:y-10,75:x-75]\n",
    "cv2.imwrite(\"split_owa_noisy_.025.png\",img)"
   ]
  },
  {
   "cell_type": "code",
   "execution_count": null,
   "metadata": {},
   "outputs": [],
   "source": [
    "with open('odm.csv', 'w') as csvfile:\n",
    "    writer = csv.writer(csvfile, delimiter=',')\n",
    "    for row in odm:\n",
    "        writer.writerow(row)"
   ]
  },
  {
   "cell_type": "code",
   "execution_count": 3,
   "metadata": {},
   "outputs": [],
   "source": [
    "keys = []\n",
    "for g in range(1,2**7):\n",
    "    key = []\n",
    "    for i,val in enumerate(format(g,'b')[::-1]):\n",
    "        if val == '1':\n",
    "            key.append(i+1)\n",
    "    keys.append(np.asarray(key))\n"
   ]
  },
  {
   "cell_type": "code",
   "execution_count": 4,
   "metadata": {},
   "outputs": [],
   "source": [
    "learner_fm = {}\n",
    "\n",
    "with open('FMs/fmvars_shared_0_0.txt', 'r') as csvfile:\n",
    "    reader = csv.reader(csvfile)\n",
    "    for i,row in enumerate(reader):\n",
    "        learner_fm[str(keys[i])] = float(row[0])\n"
   ]
  },
  {
   "cell_type": "code",
   "execution_count": 5,
   "metadata": {},
   "outputs": [
    {
     "name": "stdout",
     "output_type": "stream",
     "text": [
      "done with diffs\n"
     ]
    }
   ],
   "source": [
    "learner_ch = ChoquetIntegral()\n",
    "learner_ch.N = 7\n",
    "learner_ch.M = 7\n",
    "learner_ch.type = 'quad'\n",
    "learner_ch.fm = learner_fm\n",
    "learner_diffs = learner_ch.generate_walk_diffs()\n",
    "print(\"done with diffs\")\n",
    "# ivat(learner_diffs)"
   ]
  },
  {
   "cell_type": "code",
   "execution_count": 156,
   "metadata": {},
   "outputs": [
    {
     "data": {
      "text/plain": [
       "{'[1]': 0,\n",
       " '[2]': 1,\n",
       " '[3]': 2,\n",
       " '[4]': 3,\n",
       " '[5]': 4,\n",
       " '[1 2]': 5,\n",
       " '[1 3]': 6,\n",
       " '[1 4]': 7,\n",
       " '[1 5]': 8,\n",
       " '[2 3]': 9,\n",
       " '[2 4]': 10,\n",
       " '[2 5]': 11,\n",
       " '[3 4]': 12,\n",
       " '[3 5]': 13,\n",
       " '[4 5]': 14,\n",
       " '[1 2 3]': 15,\n",
       " '[1 2 4]': 16,\n",
       " '[1 2 5]': 17,\n",
       " '[1 3 4]': 18,\n",
       " '[1 3 5]': 19,\n",
       " '[1 4 5]': 20,\n",
       " '[2 3 4]': 21,\n",
       " '[2 3 5]': 22,\n",
       " '[2 4 5]': 23,\n",
       " '[3 4 5]': 24,\n",
       " '[1 2 3 4]': 25,\n",
       " '[1 2 3 5]': 26,\n",
       " '[1 2 4 5]': 27,\n",
       " '[1 3 4 5]': 28,\n",
       " '[2 3 4 5]': 29,\n",
       " '[1 2 3 4 5]': 30}"
      ]
     },
     "execution_count": 156,
     "metadata": {},
     "output_type": "execute_result"
    }
   ],
   "source": [
    "airfoil_vals = []\n",
    "with open(\"airfoil.csv\",'r') as csvfile:\n",
    "    reader = csv.reader(csvfile)\n",
    "    for i, row in enumerate(reader):\n",
    "        airfoil_vals.append(row[0])\n",
    "\n",
    "def get_keys_index(n):\n",
    "        \"\"\"\n",
    "        Sets up a dictionary for referencing FM.\n",
    "\n",
    "        :return: The keys to the dictionary\n",
    "        \"\"\"\n",
    "\n",
    "        vls = np.arange(1, n + 1)\n",
    "        count = 0\n",
    "        Lattice = {}\n",
    "        for i in range(0, n):\n",
    "            Lattice[str(np.array([vls[i]]))] = count\n",
    "            count = count + 1\n",
    "        for i in range(2, n + 1):\n",
    "            A = np.array(list(itertools.combinations(vls, i)))\n",
    "            for latt_pt in A:\n",
    "                Lattice[str(latt_pt)] = count\n",
    "                count = count + 1\n",
    "        return Lattice\n",
    "    \n",
    "fm = {}\n",
    "fmkeys = list(get_keys_index(5).keys())\n",
    "\n",
    "for i,val in enumerate(airfoil_vals):\n",
    "    if i\n",
    "    fm[fmkeys[i]] = airfoil_vals"
   ]
  },
  {
   "cell_type": "code",
   "execution_count": 141,
   "metadata": {},
   "outputs": [],
   "source": [
    "# diff_mat = metrics.pairwise_distances(learner_diffs)\n",
    "mat_dict3 = {}\n",
    "mat_dict3[\"undersample_true\"] = emd_pairwise_dissimilarity(true_diffs)"
   ]
  },
  {
   "cell_type": "code",
   "execution_count": 150,
   "metadata": {},
   "outputs": [],
   "source": [
    "mat_dict3[\"undersample_20_all\"] = emd_pairwise_dissimilarity(all_diffs)"
   ]
  },
  {
   "cell_type": "code",
   "execution_count": 90,
   "metadata": {},
   "outputs": [],
   "source": [
    "mat_dict[\"random_6_unstruct\"] = metrics.pairwise_distances(mat_dict[\"random_6_unstruct\"])"
   ]
  },
  {
   "cell_type": "code",
   "execution_count": 151,
   "metadata": {},
   "outputs": [],
   "source": [
    "sio.savemat(\"noisy_diffs.mat\",mat_dict3)"
   ]
  }
 ],
 "metadata": {
  "kernelspec": {
   "display_name": "Python 3",
   "language": "python",
   "name": "python3"
  },
  "language_info": {
   "codemirror_mode": {
    "name": "ipython",
    "version": 3
   },
   "file_extension": ".py",
   "mimetype": "text/x-python",
   "name": "python",
   "nbconvert_exporter": "python",
   "pygments_lexer": "ipython3",
   "version": "3.8.2"
  }
 },
 "nbformat": 4,
 "nbformat_minor": 4
}
