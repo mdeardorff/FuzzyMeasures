{
 "cells": [
  {
   "cell_type": "code",
   "execution_count": 36,
   "metadata": {},
   "outputs": [],
   "source": [
    "from choquet_integral import *\n",
    "import numpy as np\n",
    "import cv2\n",
    "import itertools\n",
    "import math\n",
    "import inspect\n",
    "import matplotlib.pyplot as plt\n",
    "import csv\n",
    "import sklearn.metrics as metrics\n",
    "from scipy.stats import entropy\n",
    "import random\n",
    "import xai_indices as xai\n",
    "import pyemd"
   ]
  },
  {
   "cell_type": "code",
   "execution_count": 37,
   "metadata": {},
   "outputs": [],
   "source": [
    "from sklearn import datasets\n",
    "from emd_clustertend import vat, ivat\n",
    "from sklearn.preprocessing import scale"
   ]
  },
  {
   "cell_type": "code",
   "execution_count": 38,
   "metadata": {},
   "outputs": [
    {
     "name": "stdout",
     "output_type": "stream",
     "text": [
      "Number Inputs :  4 ; Number Samples :  200\n",
      "     pcost       dcost       gap    pres   dres\n",
      " 0: -5.8769e+01 -6.5099e+01  7e+01  7e+00  2e-01\n",
      " 1: -5.6939e+01 -6.5021e+01  1e+01  4e-01  1e-02\n",
      " 2: -5.7784e+01 -5.9646e+01  2e+00  7e-02  2e-03\n",
      " 3: -5.8264e+01 -5.8820e+01  6e-01  2e-02  4e-04\n",
      " 4: -5.8419e+01 -5.8601e+01  2e-01  2e-04  4e-06\n",
      " 5: -5.8461e+01 -5.8472e+01  1e-02  6e-06  2e-07\n",
      " 6: -5.8464e+01 -5.8464e+01  2e-04  7e-08  2e-09\n",
      " 7: -5.8464e+01 -5.8464e+01  2e-06  7e-10  2e-11\n",
      "Optimal solution found.\n"
     ]
    },
    {
     "data": {
      "text/plain": [
       "{'[1]': 0.2545396160403918,\n",
       " '[2]': 0.5743952882706886,\n",
       " '[3]': 0.023972482705674578,\n",
       " '[4]': 0.5482867481967673,\n",
       " '[1 2]': 0.574395312781764,\n",
       " '[1 3]': 0.44149977874452984,\n",
       " '[1 4]': 0.548286954726475,\n",
       " '[2 3]': 0.5743953381770647,\n",
       " '[2 4]': 0.5743952982789976,\n",
       " '[3 4]': 0.5482894511470455,\n",
       " '[1 2 3]': 0.5743953830861409,\n",
       " '[1 2 4]': 0.5743953311036918,\n",
       " '[1 3 4]': 0.611117492385922,\n",
       " '[2 3 4]': 0.9037818877334093,\n",
       " '[1 2 3 4]': 1.0}"
      ]
     },
     "execution_count": 38,
     "metadata": {},
     "output_type": "execute_result"
    }
   ],
   "source": [
    "chi = ChoquetIntegral()\n",
    "\n",
    "data = np.random.rand(4, 100)\n",
    "labels = np.amax(data, 0)\n",
    "data2 = data[::-1,:]\n",
    "labels2 = np.amin(data2,0)\n",
    "\n",
    "data = np.concatenate((data,data2),axis=1)\n",
    "labels = np.concatenate((labels,labels2))\n",
    "\n",
    "# train the chi via quadratic program \n",
    "chi.train_chi(data, labels)\n",
    "\n",
    "# print out the learned chi variables. (in this case, all 1's) \n",
    "chi.fm"
   ]
  },
  {
   "cell_type": "code",
   "execution_count": 46,
   "metadata": {},
   "outputs": [],
   "source": [
    "custom = ChoquetIntegral()\n",
    "custom.N = 4\n",
    "customfm = {}\n",
    "customfm[str(np.asarray([1]))] = .9\n",
    "customfm[str(np.asarray([2]))] = 0\n",
    "customfm[str(np.asarray([3]))] = 0\n",
    "customfm[str(np.asarray([4]))] = 0\n",
    "customfm[str(np.asarray([1,2]))] = .9\n",
    "customfm[str(np.asarray([1,3]))] = .9\n",
    "customfm[str(np.asarray([1,4]))] = .9\n",
    "customfm[str(np.asarray([2,3]))] = 0\n",
    "customfm[str(np.asarray([2,4]))] = 0\n",
    "customfm[str(np.asarray([3,4]))] = 0\n",
    "customfm[str(np.asarray([1,2,3]))] = .9\n",
    "customfm[str(np.asarray([1,2,4]))] = .9\n",
    "customfm[str(np.asarray([1,3,4]))] = .9\n",
    "customfm[str(np.asarray([2,3,4]))] = 0\n",
    "customfm[str(np.asarray([1,2,3,4]))] = 1\n",
    "\n",
    "custom.fm = customfm\n",
    "custom.type='quad'"
   ]
  },
  {
   "cell_type": "code",
   "execution_count": 47,
   "metadata": {},
   "outputs": [
    {
     "data": {
      "text/plain": [
       "array([[0.9, 0. , 0. , 0.1],\n",
       "       [0.9, 0. , 0. , 0.1],\n",
       "       [0.9, 0. , 0. , 0.1],\n",
       "       [0.9, 0. , 0. , 0.1],\n",
       "       [0.9, 0. , 0. , 0.1],\n",
       "       [0.9, 0. , 0. , 0.1],\n",
       "       [0. , 0.9, 0. , 0.1],\n",
       "       [0. , 0.9, 0. , 0.1],\n",
       "       [0. , 0. , 0.9, 0.1],\n",
       "       [0. , 0. , 0. , 1. ],\n",
       "       [0. , 0. , 0.9, 0.1],\n",
       "       [0. , 0. , 0. , 1. ],\n",
       "       [0. , 0.9, 0. , 0.1],\n",
       "       [0. , 0.9, 0. , 0.1],\n",
       "       [0. , 0. , 0.9, 0.1],\n",
       "       [0. , 0. , 0. , 1. ],\n",
       "       [0. , 0. , 0.9, 0.1],\n",
       "       [0. , 0. , 0. , 1. ],\n",
       "       [0. , 0.9, 0. , 0.1],\n",
       "       [0. , 0.9, 0. , 0.1],\n",
       "       [0. , 0. , 0.9, 0.1],\n",
       "       [0. , 0. , 0. , 1. ],\n",
       "       [0. , 0. , 0.9, 0.1],\n",
       "       [0. , 0. , 0. , 1. ]])"
      ]
     },
     "execution_count": 47,
     "metadata": {},
     "output_type": "execute_result"
    }
   ],
   "source": [
    "custom.generate_walk_diffs()"
   ]
  },
  {
   "cell_type": "code",
   "execution_count": null,
   "metadata": {},
   "outputs": [],
   "source": [
    "def sample_with_noise(ch,data,mean,var):\n",
    "    labels = np.zeros(data.shape[0])\n",
    "    for i,point in enumerate(data):\n",
    "        labels[i] = max(min(ch.chi_quad(point) + random.gauss(mean,var),1),0)\n",
    "    return labels\n",
    "\n",
    "def gen_datapoints(m,n):\n",
    "    points = []\n",
    "    for i in range(n):\n",
    "        point = []\n",
    "        for j in range(m):\n",
    "            point.append(random.random())\n",
    "        points.append(point)\n",
    "    return np.asarray(points)\n"
   ]
  },
  {
   "cell_type": "code",
   "execution_count": 28,
   "metadata": {},
   "outputs": [
    {
     "name": "stdout",
     "output_type": "stream",
     "text": [
      "Number Inputs :  4 ; Number Samples :  200\n",
      "     pcost       dcost       gap    pres   dres\n",
      " 0: -6.2253e+01 -7.0678e+01  7e+01  6e+00  2e-01\n",
      " 1: -6.1563e+01 -6.8551e+01  1e+01  6e-01  2e-02\n",
      " 2: -6.2196e+01 -6.3726e+01  2e+00  6e-02  2e-03\n",
      " 3: -6.2574e+01 -6.2850e+01  3e-01  5e-03  1e-04\n",
      " 4: -6.2672e+01 -6.2733e+01  6e-02  5e-05  1e-06\n",
      " 5: -6.2690e+01 -6.2698e+01  8e-03  1e-06  5e-08\n",
      " 6: -6.2693e+01 -6.2694e+01  1e-03  1e-08  5e-10\n",
      " 7: -6.2694e+01 -6.2694e+01  2e-04  1e-10  5e-12\n",
      " 8: -6.2694e+01 -6.2694e+01  3e-05  1e-12  5e-14\n",
      "Optimal solution found.\n"
     ]
    },
    {
     "data": {
      "text/plain": [
       "({(1, 2, 3, 4): 8,\n",
       "  (1, 2, 4, 3): 7,\n",
       "  (1, 3, 2, 4): 12,\n",
       "  (1, 3, 4, 2): 3,\n",
       "  (1, 4, 2, 3): 10,\n",
       "  (1, 4, 3, 2): 10,\n",
       "  (2, 1, 3, 4): 9,\n",
       "  (2, 1, 4, 3): 10,\n",
       "  (2, 3, 1, 4): 9,\n",
       "  (2, 3, 4, 1): 7,\n",
       "  (2, 4, 1, 3): 6,\n",
       "  (2, 4, 3, 1): 8,\n",
       "  (3, 1, 2, 4): 7,\n",
       "  (3, 1, 4, 2): 6,\n",
       "  (3, 2, 1, 4): 6,\n",
       "  (3, 2, 4, 1): 7,\n",
       "  (3, 4, 1, 2): 11,\n",
       "  (3, 4, 2, 1): 6,\n",
       "  (4, 1, 2, 3): 9,\n",
       "  (4, 1, 3, 2): 14,\n",
       "  (4, 2, 1, 3): 8,\n",
       "  (4, 2, 3, 1): 9,\n",
       "  (4, 3, 1, 2): 10,\n",
       "  (4, 3, 2, 1): 8},\n",
       " {(1, 2, 3, 4): 0.04,\n",
       "  (1, 2, 4, 3): 0.035,\n",
       "  (1, 3, 2, 4): 0.06,\n",
       "  (1, 3, 4, 2): 0.015,\n",
       "  (1, 4, 2, 3): 0.05,\n",
       "  (1, 4, 3, 2): 0.05,\n",
       "  (2, 1, 3, 4): 0.045,\n",
       "  (2, 1, 4, 3): 0.05,\n",
       "  (2, 3, 1, 4): 0.045,\n",
       "  (2, 3, 4, 1): 0.035,\n",
       "  (2, 4, 1, 3): 0.03,\n",
       "  (2, 4, 3, 1): 0.04,\n",
       "  (3, 1, 2, 4): 0.035,\n",
       "  (3, 1, 4, 2): 0.03,\n",
       "  (3, 2, 1, 4): 0.03,\n",
       "  (3, 2, 4, 1): 0.035,\n",
       "  (3, 4, 1, 2): 0.055,\n",
       "  (3, 4, 2, 1): 0.03,\n",
       "  (4, 1, 2, 3): 0.045,\n",
       "  (4, 1, 3, 2): 0.07,\n",
       "  (4, 2, 1, 3): 0.04,\n",
       "  (4, 2, 3, 1): 0.045,\n",
       "  (4, 3, 1, 2): 0.05,\n",
       "  (4, 3, 2, 1): 0.04})"
      ]
     },
     "execution_count": 28,
     "metadata": {},
     "output_type": "execute_result"
    }
   ],
   "source": [
    "data = gen_datapoints(4,200)\n",
    "noisy_labels = sample_with_noise(custom,data,0,0)\n",
    "\n",
    "noisy_chi = ChoquetIntegral()\n",
    "noisy_chi.train_chi(data.T,noisy_labels)\n",
    "\n",
    "xai.walk_visitation(data.T)"
   ]
  },
  {
   "cell_type": "code",
   "execution_count": 29,
   "metadata": {},
   "outputs": [],
   "source": [
    "distance_matrix = np.array([[0,1,2,3],\n",
    "                            [1,0,1,2],\n",
    "                            [2,1,0,1],\n",
    "                            [3,2,1,0]],dtype=float)\n",
    "\n",
    "def gen_unit_distance_matrix(n):\n",
    "    distance_matrix = np.zeros((n,n))\n",
    "    for i in range(n):\n",
    "        for j in range(n):\n",
    "            distance_matrix[i][j] = np.abs(i-j)\n",
    "    return distance_matrix\n",
    "\n",
    "def emd_pairwise_dissimilarity(X):\n",
    "    pairwise = np.zeros((X.shape[0],X.shape[0]))\n",
    "    distance_matrix = gen_unit_distance_matrix(X.shape[1])\n",
    "    for i in range(X.shape[0]):\n",
    "        for j in range(X.shape[0]):\n",
    "            if i == j:\n",
    "                pairwise[i][j] = 0\n",
    "            else:\n",
    "                diff = pyemd.emd(X[i],X[j],distance_matrix)\n",
    "                pairwise[i][j]=diff\n",
    "    return pairwise\n"
   ]
  },
  {
   "cell_type": "code",
   "execution_count": 49,
   "metadata": {},
   "outputs": [
    {
     "data": {
      "image/png": "[encoded data removed]",
      "text/plain": [
       "<Figure size 720x720 with 1 Axes>"
      ]
     },
     "metadata": {
      "needs_background": "light"
     },
     "output_type": "display_data"
    }
   ],
   "source": [
    "diffs = custom.generate_walk_diffs()\n",
    "odm,reorder = vat(diffs,return_odm=True)"
   ]
  },
  {
   "cell_type": "code",
   "execution_count": 82,
   "metadata": {},
   "outputs": [
    {
     "name": "stdout",
     "output_type": "stream",
     "text": [
      "[0.  0.9 0.  0.1]\n"
     ]
    },
    {
     "data": {
      "text/plain": [
       "array([[0, 0],\n",
       "       [0, 1],\n",
       "       [0, 2],\n",
       "       [0, 3],\n",
       "       [0, 4]])"
      ]
     },
     "execution_count": 82,
     "metadata": {},
     "output_type": "execute_result"
    }
   ],
   "source": [
    "print(diffs[12])\n",
    "reorder[0,0:5]"
   ]
  },
  {
   "cell_type": "code",
   "execution_count": null,
   "metadata": {},
   "outputs": [],
   "source": [
    "def generate_walk_diffs(chi):\n",
    "    n = chi.M\n",
    "    initial = []\n",
    "    for i in range(n):\n",
    "        initial.append(i+1)\n",
    "\n",
    "    index_permutations = itertools.permutations(initial,4)\n",
    "    walks = np.ndarray((math.factorial(n),n),dtype=int)\n",
    "    walk_diffs = np.ndarray((math.factorial(n),n),dtype=float)\n",
    "    for i,val in enumerate(index_permutations):\n",
    "        walks[i] = np.asarray(val)\n",
    "\n",
    "        c_build = np.ndarray(n)\n",
    "        for j in range(len(walks[i])):\n",
    "            if j == 0:\n",
    "                c_build[j] = chi.fm[str(walks[i][0:1])]\n",
    "            else:\n",
    "                c_build[j] = (chi.fm[str(np.sort(walks[i][0:j+1]))]) - (chi.fm[str(np.sort(walks[i][0:j]))])\n",
    "\n",
    "        walk_diffs[i] = c_build\n",
    "    return walk_diffs"
   ]
  },
  {
   "cell_type": "code",
   "execution_count": null,
   "metadata": {},
   "outputs": [],
   "source": [
    "plt.imshow(odm,cmap='gray')"
   ]
  },
  {
   "cell_type": "code",
   "execution_count": 80,
   "metadata": {},
   "outputs": [],
   "source": [
    "def read_crisp(fname):\n",
    "    part = []\n",
    "    with open(fname) as csvfile:\n",
    "        reader = csv.reader(csvfile,delimiter=',')\n",
    "        for row in reader:\n",
    "            part.append(row)\n",
    "    return np.asarray(part,dtype=int)\n",
    "crisp_part = read_crisp(\"crisp.csv\")"
   ]
  },
  {
   "cell_type": "code",
   "execution_count": 90,
   "metadata": {},
   "outputs": [],
   "source": [
    "def center_from_crisp(crisp,reordering):\n",
    "    n = crisp.shape[0]\n",
    "    row = 0\n",
    "    num_in_cluster = 0\n",
    "    cluster_centers = []\n",
    "    for i in range(n):\n",
    "        if crisp[row][i] == 1:\n",
    "            num_in_cluster = num_in_cluster + 1\n",
    "            \n",
    "        else:\n",
    "            print(\"new cluster at\", i)\n",
    "            mini = np.inf\n",
    "            min_row = row\n",
    "            for j in range(num_in_cluster):\n",
    "                row_sum = np.sum(crisp[row][i-num_in_cluster:i])\n",
    "                print(row_sum, \"sum of row\", j)\n",
    "                if row_sum < mini:\n",
    "                    mini = row_sum\n",
    "                    mini_row = j\n",
    "            cluster_centers.append(mini_row)\n",
    "            row = row+num_in_cluster\n",
    "            num_in_cluster = 1\n",
    "    return cluster_centers"
   ]
  },
  {
   "cell_type": "code",
   "execution_count": 91,
   "metadata": {},
   "outputs": [
    {
     "name": "stdout",
     "output_type": "stream",
     "text": [
      "new cluster at 6\n",
      "new cluster at 12\n",
      "new cluster at 18\n"
     ]
    },
    {
     "data": {
      "text/plain": [
       "[0, 0, 0]"
      ]
     },
     "execution_count": 91,
     "metadata": {},
     "output_type": "execute_result"
    }
   ],
   "source": [
    "center_from_crisp(crisp_part,reorder)"
   ]
  },
  {
   "cell_type": "code",
   "execution_count": 50,
   "metadata": {},
   "outputs": [],
   "source": [
    "with open('odm.csv', 'w') as csvfile:\n",
    "    writer = csv.writer(csvfile, delimiter=',')\n",
    "    for row in odm:\n",
    "        writer.writerow(row)"
   ]
  }
 ],
 "metadata": {
  "kernelspec": {
   "display_name": "Python 3",
   "language": "python",
   "name": "python3"
  },
  "language_info": {
   "codemirror_mode": {
    "name": "ipython",
    "version": 3
   },
   "file_extension": ".py",
   "mimetype": "text/x-python",
   "name": "python",
   "nbconvert_exporter": "python",
   "pygments_lexer": "ipython3",
   "version": "3.8.2"
  }
 },
 "nbformat": 4,
 "nbformat_minor": 4
}
