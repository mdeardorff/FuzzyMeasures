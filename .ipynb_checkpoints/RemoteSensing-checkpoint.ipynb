{
 "cells": [
  {
   "cell_type": "code",
   "execution_count": 11,
   "metadata": {},
   "outputs": [],
   "source": [
    "from choquet_integral import *\n",
    "import numpy as np\n",
    "import itertools\n",
    "import math\n",
    "import inspect\n",
    "import matplotlib.pyplot as plt\n",
    "import csv\n",
    "import sklearn.metrics as metrics\n",
    "from sklearn import datasets\n",
    "from sklearn.preprocessing import scale\n",
    "import pandas\n",
    "from pyclustertend import vat, ivat\n",
    "import matplotlib.pyplot as plt\n",
    "from emd_clustertend import *\n",
    "import scipy.io as sio"
   ]
  },
  {
   "cell_type": "code",
   "execution_count": 4,
   "metadata": {},
   "outputs": [],
   "source": [
    "# our integral\n",
    "chi = ChoquetIntegral()\n",
    "\n",
    "# load the training file \n",
    "# 02.txt: https://github.com/aminb99/remote-sensing-nn-datasets/blob/master/AID_4net_dataset/NNFold_1/Fold_1/test/02.txt\n",
    "# _02.txt: https://github.com/aminb99/remote-sensing-nn-datasets/blob/master/AID_dataset/NNFold_1/Fold_1/test/02.txt\n",
    "df = pandas.read_csv('02.txt')\n",
    "df\n",
    "\n",
    "# how many nets? \n",
    "n = 4 # 7"
   ]
  },
  {
   "cell_type": "code",
   "execution_count": 5,
   "metadata": {},
   "outputs": [],
   "source": [
    "# suck out labels and data\n",
    "training_labels = np.asarray( df.values )[:,n]\n",
    "training_data = np.asarray( df.values )[:,0:n]"
   ]
  },
  {
   "cell_type": "code",
   "execution_count": 6,
   "metadata": {},
   "outputs": [
    {
     "name": "stdout",
     "output_type": "stream",
     "text": [
      "(array([  0,   8,   9,  69,  76, 105, 138, 190, 200, 221, 227, 248, 342,\n",
      "       352, 383, 411, 442, 484, 612, 633, 780, 807, 876, 901, 912, 925,\n",
      "       950, 965, 971], dtype=int64),)\n"
     ]
    }
   ],
   "source": [
    "# for class ?, make this a binary learning problem\n",
    "locs = np.where(training_labels == 1)\n",
    "print(locs)\n",
    "labels = np.zeros(training_labels.shape)\n",
    "labels[locs] = 1"
   ]
  },
  {
   "cell_type": "code",
   "execution_count": 7,
   "metadata": {},
   "outputs": [
    {
     "name": "stdout",
     "output_type": "stream",
     "text": [
      "Number Inputs :  4 ; Number Samples :  999\n",
      "     pcost       dcost       gap    pres   dres\n",
      " 0: -2.8841e+01 -3.6231e+01  5e+01  6e+00  2e-01\n",
      " 1: -2.8986e+01 -3.4405e+01  6e+00  2e-01  6e-03\n",
      " 2: -2.8982e+01 -2.9190e+01  2e-01  5e-03  1e-04\n",
      " 3: -2.8994e+01 -2.9014e+01  2e-02  2e-04  6e-06\n",
      " 4: -2.8999e+01 -2.9001e+01  2e-03  2e-06  6e-08\n",
      " 5: -2.8999e+01 -2.9000e+01  2e-04  1e-07  3e-09\n",
      " 6: -2.9000e+01 -2.9000e+01  2e-05  1e-09  3e-11\n",
      "Optimal solution found.\n",
      "{'[1]': 0.007301042070360983, '[2]': 3.168038462656342e-05, '[3]': 0.0001580437632328804, '[4]': 0.004358436395386026, '[1 2]': 0.12177233024679085, '[1 3]': 0.4984426657599827, '[1 4]': 0.2860080931753677, '[2 3]': 0.0005748642723022515, '[2 4]': 0.99134681393906, '[3 4]': 0.9097324736104253, '[1 2 3]': 0.9940898513618791, '[1 2 4]': 0.9987471770458044, '[1 3 4]': 0.9956525757188976, '[2 3 4]': 0.9999609819692074, '[1 2 3 4]': 1.0}\n"
     ]
    }
   ],
   "source": [
    "# train the integral\n",
    "chi.train_chi(training_data.transpose(), labels)\n",
    "print(chi.fm)"
   ]
  },
  {
   "cell_type": "code",
   "execution_count": 8,
   "metadata": {},
   "outputs": [],
   "source": [
    "#distance matrix code from Matt\n",
    "initial = []\n",
    "for i in range(n):\n",
    "    initial.append(i+1)\n",
    "    \n",
    "a = itertools.permutations(initial,n)\n",
    "b = np.ndarray((math.factorial(n),n),dtype=int)\n",
    "c = np.ndarray((math.factorial(n),n),dtype=float)\n",
    "for i,val in enumerate(a):\n",
    "    b[i] = np.asarray(val)\n",
    "    \n",
    "    c_build = np.ndarray(n)\n",
    "    for j in range(len(b[i])):\n",
    "        if j == 0:\n",
    "            c_build[j] = chi.fm[str(b[i][0:1])]\n",
    "        else:\n",
    "            c_build[j] = (chi.fm[str(np.sort(b[i][0:j+1]))]) - (chi.fm[str(np.sort(b[i][0:j]))])\n",
    "\n",
    "    c[i] = c_build"
   ]
  },
  {
   "cell_type": "code",
   "execution_count": 16,
   "metadata": {},
   "outputs": [],
   "source": [
    "C = c\n",
    "remote_dis = emd_pairwise_dissimilarity(chi.generate_walk_diffs())\n",
    "mat_dict = {}\n",
    "mat_dict['remote_dis'] = remote_dis\n",
    "# b = vat(C, return_ODM=True)\n",
    "# a = ivat(C, return_D_prim=True)"
   ]
  },
  {
   "cell_type": "code",
   "execution_count": null,
   "metadata": {},
   "outputs": [],
   "source": [
    "sio.savemat(\"noisy_diffs.mat\",mat_dict3)"
   ]
  },
  {
   "cell_type": "code",
   "execution_count": null,
   "metadata": {},
   "outputs": [],
   "source": [
    "# I want to plot it\n",
    "\n",
    "#vat\n",
    "plt.figure()\n",
    "color_map = plt.imshow(a)\n",
    "color_map.set_cmap(\"gray\")\n",
    "#plt.colorbar()\n",
    "\n",
    "#ivat - dang, an't as straight forward due to transform (I will have to think about!)\n",
    "plt.figure()\n",
    "color_map = plt.imshow(a,vmin=0,vmax=1)\n",
    "color_map.set_cmap(\"gray\")"
   ]
  },
  {
   "cell_type": "code",
   "execution_count": null,
   "metadata": {},
   "outputs": [],
   "source": [
    "# find the unique sorts\n",
    "sortorder = np.argsort( (-1) * training_data )\n",
    "print(sortorder)\n",
    "unique_rows = np.unique(sortorder, axis=0)\n",
    "print(unique_rows)\n",
    "Nunique = unique_rows.shape[0]\n",
    "print(Nunique)"
   ]
  },
  {
   "cell_type": "code",
   "execution_count": null,
   "metadata": {},
   "outputs": [],
   "source": [
    "#distance matrix on just unique sorts\n",
    "d = np.ndarray((Nunique,n),dtype=float)\n",
    "for i in range(Nunique):\n",
    "    b = np.asarray(unique_rows[i]) + 1\n",
    "    c_build = np.zeros(n)\n",
    "    for j in range(n):\n",
    "        if j == 0:\n",
    "            c_build[j] = chi.fm[str(b[0:1])]\n",
    "        else:\n",
    "            c_build[j] = (chi.fm[str(np.sort(b[0:j+1]))]) - (chi.fm[str(np.sort(b[0:j]))])\n",
    "    d[i] = c_build"
   ]
  },
  {
   "cell_type": "code",
   "execution_count": null,
   "metadata": {},
   "outputs": [],
   "source": [
    "# what are these operators? plot them out\n",
    "np.set_printoptions(formatter={'float': '{: 0.9f}'.format})\n",
    "for i in range(Nunique):\n",
    "    print(d[i])"
   ]
  },
  {
   "cell_type": "code",
   "execution_count": null,
   "metadata": {},
   "outputs": [],
   "source": [
    "#dissimilarity matrix, i want to see it unsorted\n",
    "pwd = metrics.pairwise_distances(d,metric='euclidean')\n",
    "color_map = plt.imshow(pwd)\n",
    "color_map.set_cmap(\"gray\")\n",
    "plt.colorbar()"
   ]
  },
  {
   "cell_type": "code",
   "execution_count": null,
   "metadata": {},
   "outputs": [],
   "source": [
    "# vat and ivat on just the seen walks\n",
    "C = d\n",
    "b = vat(C, return_ODM=True)\n",
    "a = ivat(C, return_D_prim=True)"
   ]
  },
  {
   "cell_type": "code",
   "execution_count": null,
   "metadata": {},
   "outputs": [],
   "source": [
    "print(d)\n",
    "# naive extraction\n",
    "ListOfOps = np.asarray([0])\n",
    "Thresh = 0.1\n",
    "for i in range(1,Nunique):\n",
    "    dist = np.zeros( ListOfOps.shape[0] )\n",
    "    for j in range(ListOfOps.shape[0]):\n",
    "        dist[j] = np.sqrt(np.sum(np.power(d[i]-d[ListOfOps[j]],2.0)))\n",
    "    # new...?\n",
    "    # look at the thing that its closest to, is it greater than some threshold?\n",
    "    if( np.amin(dist) > Thresh ):\n",
    "        ListOfOps = np.append(ListOfOps,i)\n",
    "# here are our operators ...\n",
    "print(ListOfOps)\n",
    "print(d[ListOfOps])"
   ]
  }
 ],
 "metadata": {
  "kernelspec": {
   "display_name": "Python 3",
   "language": "python",
   "name": "python3"
  },
  "language_info": {
   "codemirror_mode": {
    "name": "ipython",
    "version": 3
   },
   "file_extension": ".py",
   "mimetype": "text/x-python",
   "name": "python",
   "nbconvert_exporter": "python",
   "pygments_lexer": "ipython3",
   "version": "3.8.2"
  }
 },
 "nbformat": 4,
 "nbformat_minor": 2
}
