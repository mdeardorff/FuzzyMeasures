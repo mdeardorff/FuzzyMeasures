{
 "cells": [
  {
   "cell_type": "code",
   "execution_count": 55,
   "metadata": {},
   "outputs": [],
   "source": [
    "from choquet_integral import *\n",
    "import numpy as np\n",
    "import itertools\n",
    "import math"
   ]
  },
  {
   "cell_type": "code",
   "execution_count": 116,
   "metadata": {},
   "outputs": [],
   "source": [
    "from sklearn import datasets\n",
    "from pyclustertend import vat, ivat\n",
    "from sklearn.preprocessing import scale"
   ]
  },
  {
   "cell_type": "code",
   "execution_count": 166,
   "metadata": {},
   "outputs": [
    {
     "name": "stdout",
     "output_type": "stream",
     "text": [
      "Number Inputs :  4 ; Number Samples :  50\n",
      "     pcost       dcost       gap    pres   dres\n",
      " 0: -1.1476e+01 -1.8445e+01  6e+01  6e+00  8e-01\n",
      " 1: -1.0918e+01 -1.7845e+01  9e+00  4e-01  5e-02\n",
      " 2: -1.1173e+01 -1.2673e+01  2e+00  7e-02  8e-03\n",
      " 3: -1.1439e+01 -1.1800e+01  4e-01  9e-03  1e-03\n",
      " 4: -1.1503e+01 -1.1586e+01  8e-02  2e-03  2e-04\n",
      " 5: -1.1521e+01 -1.1550e+01  3e-02  2e-05  2e-06\n",
      " 6: -1.1526e+01 -1.1527e+01  1e-03  4e-07  5e-08\n",
      " 7: -1.1526e+01 -1.1526e+01  4e-05  5e-09  6e-10\n",
      " 8: -1.1526e+01 -1.1526e+01  7e-07  5e-11  6e-12\n",
      "Optimal solution found.\n"
     ]
    },
    {
     "data": {
      "text/plain": [
       "<choquet_integral.ChoquetIntegral at 0x2bd67cedd60>"
      ]
     },
     "execution_count": 166,
     "metadata": {},
     "output_type": "execute_result"
    }
   ],
   "source": [
    "chi = ChoquetIntegral()\n",
    "data = np.random.rand(4, 25)\n",
    "\n",
    "data2 = data[::-1,:]\n",
    "labels = np.amax(data, 0)\n",
    "labels2 = np.amin(data2,0)\n",
    "\n",
    "data = np.concatenate((data,data2),axis=1)\n",
    "labels = np.concatenate((labels,labels2))\n",
    "\n",
    "# train the chi via quadratic program \n",
    "chi.train_chi(data, labels)\n",
    "\n",
    "# print out the learned chi variables. (in this case, all 1's) \n"
   ]
  },
  {
   "cell_type": "code",
   "execution_count": 167,
   "metadata": {},
   "outputs": [
    {
     "name": "stdout",
     "output_type": "stream",
     "text": [
      "[0.50587015 0.47607222 0.34377962 0.58087733]\n",
      "[0.58087733 0.34377962 0.47607222 0.50587015]\n"
     ]
    }
   ],
   "source": [
    "print(data[:,0])\n",
    "print(data[:,25])"
   ]
  },
  {
   "cell_type": "code",
   "execution_count": 168,
   "metadata": {},
   "outputs": [],
   "source": [
    "n = 4\n",
    "initial = []\n",
    "for i in range(n):\n",
    "    initial.append(i+1)\n",
    "    \n",
    "a = itertools.permutations(initial,4)\n",
    "b = np.ndarray((math.factorial(n),n),dtype=int)\n",
    "c = np.ndarray((math.factorial(n),n),dtype=float)\n",
    "for i,val in enumerate(a):\n",
    "    b[i] = np.asarray(val)\n",
    "    \n",
    "    c_build = np.ndarray(n)\n",
    "    for j in range(len(b[i])):\n",
    "        if j == 0:\n",
    "            c_build[j] = chi.fm[str(b[i][0:1])]\n",
    "        else:\n",
    "            c_build[j] = (chi.fm[str(np.sort(b[i][0:j+1]))]) - (chi.fm[str(np.sort(b[i][0:j]))])\n",
    "\n",
    "    c[i] = c_build"
   ]
  },
  {
   "cell_type": "code",
   "execution_count": 170,
   "metadata": {},
   "outputs": [
    {
     "name": "stdout",
     "output_type": "stream",
     "text": [
      "[3.21569769e-01 5.80746384e-09 1.07453177e-01 5.70977048e-01]\n",
      "[3.21569769e-01 5.80746384e-09 5.45322606e-01 1.33107619e-01]\n",
      "[3.21569769e-01 1.07453172e-01 1.09536317e-08 5.70977048e-01]\n",
      "[0.32156977 0.10745317 0.44961213 0.12136493]\n",
      "[0.32156977 0.01793573 0.52738688 0.13310762]\n",
      "[0.32156977 0.01793573 0.53912957 0.12136493]\n",
      "[0.0989361  0.22263367 0.10745318 0.57097705]\n",
      "[0.0989361  0.22263367 0.54532261 0.13310762]\n",
      "[9.89361039e-02 3.30086739e-01 1.09563658e-07 5.70977048e-01]\n",
      "[0.0989361  0.33008674 0.4602413  0.11073585]\n",
      "[0.0989361  0.08606119 0.68189508 0.13310762]\n",
      "[0.0989361  0.08606119 0.70426685 0.11073585]\n",
      "[4.29022737e-01 2.04625095e-07 1.09536317e-08 5.70977048e-01]\n",
      "[4.29022737e-01 2.04625095e-07 4.49612129e-01 1.21364930e-01]\n",
      "[4.29022737e-01 1.06015069e-07 1.09563658e-07 5.70977048e-01]\n",
      "[4.29022737e-01 1.06015069e-07 4.60241303e-01 1.10735854e-01]\n",
      "[4.29022737e-01 4.49612325e-01 8.19041202e-09 1.21364930e-01]\n",
      "[0.42902274 0.44961233 0.01062908 0.11073585]\n",
      "[0.11832217 0.22118333 0.52738688 0.13310762]\n",
      "[0.11832217 0.22118333 0.53912957 0.12136493]\n",
      "[0.11832217 0.06667513 0.68189508 0.13310762]\n",
      "[0.11832217 0.06667513 0.70426685 0.11073585]\n",
      "[1.18322168e-01 7.60312894e-01 8.19041202e-09 1.21364930e-01]\n",
      "[0.11832217 0.76031289 0.01062908 0.11073585]\n"
     ]
    },
    {
     "data": {
      "image/png": "[encoded data removed]",
      "text/plain": [
       "<Figure size 720x720 with 1 Axes>"
      ]
     },
     "metadata": {
      "needs_background": "light"
     },
     "output_type": "display_data"
    }
   ],
   "source": [
    "C = scale(c)\n",
    "\n",
    "vat(C)\n",
    "\n",
    "for i in range(len(c)):\n",
    "    print(c[i])"
   ]
  }
 ],
 "metadata": {
  "kernelspec": {
   "display_name": "Python 3",
   "language": "python",
   "name": "python3"
  },
  "language_info": {
   "codemirror_mode": {
    "name": "ipython",
    "version": 3
   },
   "file_extension": ".py",
   "mimetype": "text/x-python",
   "name": "python",
   "nbconvert_exporter": "python",
   "pygments_lexer": "ipython3",
   "version": "3.8.2"
  }
 },
 "nbformat": 4,
 "nbformat_minor": 4
}
