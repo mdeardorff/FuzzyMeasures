{
 "cells": [
  {
   "cell_type": "code",
   "execution_count": 3,
   "metadata": {},
   "outputs": [],
   "source": [
    "from choquet_integral import *\n",
    "import numpy as np\n",
    "import cv2\n",
    "import itertools\n",
    "import math\n",
    "import inspect\n",
    "import matplotlib.pyplot as plt\n",
    "import csv\n",
    "import sklearn.metrics as metrics\n",
    "from scipy.stats import entropy\n",
    "import random\n",
    "import xai_indices as xai\n",
    "import pyemd\n",
    "from sklearn import datasets\n",
    "from emd_clustertend import vat, ivat, emd_pairwise_dissimilarity\n",
    "from sklearn.preprocessing import scale\n",
    "import scipy.io as sio"
   ]
  },
  {
   "cell_type": "code",
   "execution_count": 4,
   "metadata": {},
   "outputs": [],
   "source": [
    "def random_node_fm(n):\n",
    "    ch = ChoquetIntegral()\n",
    "    ch.type='quad'\n",
    "    ch.fm = {}\n",
    "    ch.fm[str(np.arange(1,n+1))] = 1\n",
    "    ch.fm['[]'] = 0\n",
    "    ch.N = n\n",
    "    ch.M = n\n",
    "    numkeys = len(ch.get_keys_index())\n",
    "    keys = list(ch.get_keys_index().keys())\n",
    "    keys.append('[]')\n",
    "    s = [0] * (numkeys + 1)\n",
    "    s[-1] = 1\n",
    "    s[-2] = 1\n",
    "    done = False\n",
    "    while not done:\n",
    "        randindex = random.randrange(0,numkeys)\n",
    "        if s[randindex] == 0:\n",
    "            s[randindex] = 1\n",
    "            if keys[randindex] != '[]':\n",
    "                compare_key = [int(s) for s in keys[randindex][1:-1].split() if s.isdigit()]\n",
    "\n",
    "            else:\n",
    "                compare_key = []\n",
    "\n",
    "            maxi = 0\n",
    "            max_index = 0\n",
    "            mini = 1\n",
    "            min_index = 0\n",
    "            for i,key in enumerate(keys):\n",
    "                if s[i] == 1 and i != randindex:\n",
    "                    if key != '[]':\n",
    "                        stripped = [int(s) for s in key[1:-1].split() if s.isdigit()]\n",
    "                    else:\n",
    "                        stripped = []\n",
    "\n",
    "                    if is_subset(stripped,compare_key) and s[i] == 1 and ch.fm[key] >= maxi:\n",
    "                        maxi = ch.fm[key]\n",
    "                        max_index = i\n",
    "                    if is_subset(compare_key,stripped) and s[i] == 1 and ch.fm[key] <= mini:\n",
    "\n",
    "                        mini = ch.fm[key]\n",
    "                        min_index = i\n",
    "\n",
    "\n",
    "            rb = ch.fm[keys[max_index]]\n",
    "            ru = ch.fm[keys[min_index]]\n",
    "            g = random.uniform(rb,ru)\n",
    "            ch.fm[keys[randindex]] = g\n",
    "\n",
    "        else:\n",
    "            pass\n",
    "        if min(s) == 1:\n",
    "            done = True\n",
    "    return ch\n",
    "\n",
    "# a is subset of b\n",
    "def is_subset(a,b):\n",
    "    if len(a) == 0:\n",
    "        return True\n",
    "    if len(b) == 0 and len(a) != 0:\n",
    "        return False\n",
    "    for val in a:\n",
    "        if val not in b:\n",
    "            return False\n",
    "    else:\n",
    "        return True\n",
    "    \n",
    "def sample_with_noise(ch,data,mean,var):\n",
    "    labels = np.zeros(data.shape[0])\n",
    "    for i,point in enumerate(data):\n",
    "        labels[i] = max(min(ch.chi_quad(point) + random.gauss(mean,var),1),0)\n",
    "    return labels\n",
    "\n",
    "def gen_datapoints(m,n):\n",
    "    points = []\n",
    "    for i in range(n):\n",
    "        point = []\n",
    "        for j in range(m):\n",
    "            point.append(random.random())\n",
    "        points.append(point)\n",
    "    return np.asarray(points)\n",
    "\n",
    "def percentage_walks_observed(walks):\n",
    "    seen = 0\n",
    "    total = 0\n",
    "    for key in walks.keys():\n",
    "        if walks[key] > 0:\n",
    "            seen = seen + 1\n",
    "        total = total+1\n",
    "    return seen/total\n",
    "\n",
    "def read_crisp(fname):\n",
    "    part = []\n",
    "    with open(fname) as csvfile:\n",
    "        reader = csv.reader(csvfile,delimiter=',')\n",
    "        for row in reader:\n",
    "            part.append(row)\n",
    "    return np.asarray(part,dtype=int)\n",
    "crisp_part = read_crisp(\"crisp.csv\")\n",
    "\n",
    "#input: crisp partition matrix, reordering from odm to dm, odm itself\n",
    "def center_from_crisp(crisp,reordering,odm):\n",
    "    n = crisp.shape[0]\n",
    "    row = 0\n",
    "    num_in_cluster = 0\n",
    "    cluster_centers = []\n",
    "    for i in range(n):\n",
    "        if crisp[row][i] == 1:\n",
    "            num_in_cluster = num_in_cluster + 1\n",
    "            \n",
    "        else:\n",
    "#             print(\"new cluster at\", i)\n",
    "            mini = np.inf\n",
    "            mini_row = row\n",
    "            for j in range(row,row+num_in_cluster):\n",
    "                row_sum = np.sum(odm[j][i-num_in_cluster:i])\n",
    "                if row_sum < mini:\n",
    "                    mini = row_sum\n",
    "                    mini_row = j\n",
    "            cluster_centers.append(reorder[mini_row][0][0])   #the center is row w/ minimum difference, put back in unordered\n",
    "            row = row+num_in_cluster\n",
    "            num_in_cluster = 1\n",
    "            \n",
    "    mini = np.inf\n",
    "    mini_row = row\n",
    "    for j in range(row,row+num_in_cluster):\n",
    "        row_sum = np.sum(odm[j][i-num_in_cluster+1:i+1])\n",
    "#         print(row_sum, \"sum of row\", j)\n",
    "        if row_sum < mini:\n",
    "            mini = row_sum\n",
    "            mini_row = j\n",
    "    cluster_centers.append(reorder[mini_row][0][0])\n",
    "    return cluster_centers\n",
    "\n",
    "def generate_walk_diffs(chi):\n",
    "    n = chi.M\n",
    "    initial = []\n",
    "    for i in range(n):\n",
    "        initial.append(i+1)\n",
    "\n",
    "    index_permutations = itertools.permutations(initial,n)\n",
    "    walks = np.ndarray((math.factorial(n),n),dtype=int)\n",
    "    walk_diffs = np.ndarray((math.factorial(n),n),dtype=float)\n",
    "    for i,val in enumerate(index_permutations):\n",
    "        walks[i] = np.asarray(val)\n",
    "\n",
    "        c_build = np.ndarray(n)\n",
    "        for j in range(len(walks[i])):\n",
    "            if j == 0:\n",
    "                c_build[j] = chi.fm[str(walks[i][0:1])]\n",
    "            else:\n",
    "                c_build[j] = (chi.fm[str(np.sort(walks[i][0:j+1]))]) - (chi.fm[str(np.sort(walks[i][0:j]))])\n",
    "\n",
    "        walk_diffs[i] = c_build\n",
    "    return walk_diffs\n",
    "\n",
    "\n",
    "def gen_seen_walk_diffs(walk_visitation,ch):\n",
    "    seen_walks = []\n",
    "    for walk in walk_visitation.keys():\n",
    "        if walk_visitation[walk] > 0:\n",
    "            seen_walks.append(walk)\n",
    "    \n",
    "    n = len(seen_walks[0])\n",
    "    walk_diffs = np.ndarray((len(seen_walks),n),dtype=float)\n",
    "    for i,walk in enumerate(seen_walks):\n",
    "        walk = list(walk)\n",
    "        c_build = np.ndarray(n)\n",
    "        for j in range(len(walk)):\n",
    "            if j == 0:\n",
    "                c_build[j] = ch.fm[str(walk[0:1])]\n",
    "            else:\n",
    "                c_build[j] = ch.fm[str(np.sort(walk[0:j+1]))] - ch.fm[str(np.sort(walk[0:j]))]\n",
    "        walk_diffs[i] = c_build\n",
    "    return walk_diffs\n",
    "\n",
    "def gen_seen_walk_diffs_2(walk_visitation,ch):\n",
    "    seen_walks = []\n",
    "    for walk in walk_visitation:\n",
    "        if walk_visitation[walk] > 0:\n",
    "            seen_walks.append(walk)\n",
    "    \n",
    "    n = len(seen_walks[0])\n",
    "    walk_diffs = np.ndarray((len(seen_walks),n),dtype=float)\n",
    "    for i,walk in enumerate(seen_walks):\n",
    "        walk = list(walk)\n",
    "        c_build = np.ndarray(n)\n",
    "        for j in range(len(walk)):\n",
    "            if j == 0:\n",
    "                c_build[j] = ch.fm[str(walk[0:1])]\n",
    "            else:\n",
    "                c_build[j] = ch.fm[str(np.sort(walk[0:j+1]))] - ch.fm[str(np.sort(walk[0:j]))]\n",
    "        walk_diffs[i] = c_build\n",
    "    return walk_diffs\n",
    "        "
   ]
  },
  {
   "cell_type": "code",
   "execution_count": 43,
   "metadata": {},
   "outputs": [],
   "source": [
    "split_owa = ChoquetIntegral()\n",
    "split_owa.N = 5\n",
    "split_fm = {}\n",
    "split_fm[str(np.asarray([1]))] = .1\n",
    "split_fm[str(np.asarray([2]))] = .1\n",
    "split_fm[str(np.asarray([3]))] = .1\n",
    "split_fm[str(np.asarray([4]))] = .1\n",
    "split_fm[str(np.asarray([5]))] = .1\n",
    "split_fm[str(np.asarray([1,2]))] = .2\n",
    "split_fm[str(np.asarray([1,3]))] = .2\n",
    "split_fm[str(np.asarray([1,4]))] = .2\n",
    "split_fm[str(np.asarray([1,5]))] = .2\n",
    "split_fm[str(np.asarray([2,3]))] = .2\n",
    "split_fm[str(np.asarray([2,4]))] = .4\n",
    "split_fm[str(np.asarray([2,5]))] = .4\n",
    "split_fm[str(np.asarray([3,4]))] = .4\n",
    "split_fm[str(np.asarray([3,5]))] = .4\n",
    "split_fm[str(np.asarray([4,5]))] = .4\n",
    "split_fm[str(np.asarray([1,2,3]))] = .6\n",
    "split_fm[str(np.asarray([1,2,4]))] = .6\n",
    "split_fm[str(np.asarray([1,2,5]))] = .6\n",
    "split_fm[str(np.asarray([1,3,4]))] = .6\n",
    "split_fm[str(np.asarray([1,3,5]))] = .6\n",
    "split_fm[str(np.asarray([1,4,5]))] = .6\n",
    "split_fm[str(np.asarray([2,3,4]))] = .6\n",
    "split_fm[str(np.asarray([2,3,5]))] = .6\n",
    "split_fm[str(np.asarray([2,4,5]))] = .6\n",
    "split_fm[str(np.asarray([3,4,5]))] = .6\n",
    "split_fm[str(np.asarray([1,2,3,4]))] = .6\n",
    "split_fm[str(np.asarray([1,2,3,5]))] = .6\n",
    "split_fm[str(np.asarray([1,2,4,5]))] = .6\n",
    "split_fm[str(np.asarray([1,3,4,5]))] = .9\n",
    "split_fm[str(np.asarray([2,3,4,5]))] = .9\n",
    "split_fm[str(np.asarray([1,2,3,4,5]))] = 1\n",
    "split_owa.fm = split_fm\n",
    "split_owa.type ='quad'"
   ]
  },
  {
   "cell_type": "code",
   "execution_count": 45,
   "metadata": {},
   "outputs": [
    {
     "name": "stdout",
     "output_type": "stream",
     "text": [
      "Number Inputs :  5 ; Number Samples :  300\n",
      "     pcost       dcost       gap    pres   dres\n",
      " 0: -6.7820e+01 -8.3891e+01  1e+02  9e+00  2e-01\n",
      " 1: -6.7132e+01 -8.3534e+01  3e+01  1e+00  3e-02\n",
      " 2: -6.7764e+01 -7.1947e+01  5e+00  1e-01  4e-03\n",
      " 3: -6.8027e+01 -6.9149e+01  1e+00  3e-02  7e-04\n",
      " 4: -6.8139e+01 -6.8652e+01  5e-01  3e-04  7e-06\n",
      " 5: -6.8162e+01 -6.8192e+01  3e-02  1e-05  3e-07\n",
      " 6: -6.8166e+01 -6.8168e+01  2e-03  6e-07  2e-08\n",
      " 7: -6.8166e+01 -6.8166e+01  1e-04  6e-09  2e-10\n",
      " 8: -6.8166e+01 -6.8166e+01  1e-05  3e-10  7e-12\n",
      "Optimal solution found.\n",
      "0.9666666666666667\n"
     ]
    },
    {
     "name": "stderr",
     "output_type": "stream",
     "text": [
      " 99%|█████████████████████████████████████████████████████████████████████████████▎| 119/120 [00:00<00:00, 1473.07it/s]\n",
      "100%|████████████████████████████████████████████████████████████████████████| 14400/14400 [00:00<00:00, 497877.17it/s]"
     ]
    },
    {
     "name": "stdout",
     "output_type": "stream",
     "text": [
      "starting step 2\n",
      "starting step 3\n"
     ]
    },
    {
     "name": "stderr",
     "output_type": "stream",
     "text": [
      "\n",
      " 99%|█████████████████████████████████████████████████████████████████████████████▎| 119/120 [00:00<00:00, 1340.34it/s]\n",
      "100%|████████████████████████████████████████████████████████████████████████| 14400/14400 [00:00<00:00, 481800.09it/s]"
     ]
    },
    {
     "name": "stdout",
     "output_type": "stream",
     "text": [
      "starting step 2\n",
      "starting step 3\n"
     ]
    },
    {
     "name": "stderr",
     "output_type": "stream",
     "text": [
      "\n"
     ]
    },
    {
     "data": {
      "image/png": "[encoded data removed]",
      "text/plain": [
       "<Figure size 360x360 with 1 Axes>"
      ]
     },
     "metadata": {
      "needs_background": "light"
     },
     "output_type": "display_data"
    },
    {
     "data": {
      "image/png": "[encoded data removed]",
      "text/plain": [
       "<Figure size 360x360 with 1 Axes>"
      ]
     },
     "metadata": {
      "needs_background": "light"
     },
     "output_type": "display_data"
    }
   ],
   "source": [
    "data = gen_datapoints(5,300)\n",
    "noisy_labels = sample_with_noise(split_owa,data,0,.025)\n",
    "\n",
    "noisy_split_owa = ChoquetIntegral()\n",
    "noisy_split_owa.train_chi(data.T,noisy_labels)\n",
    "\n",
    "(walks,_) = xai.walk_visitation(data.T)\n",
    "# print(walks)\n",
    "print(percentage_walks_observed(walks))\n",
    "\n",
    "owa_diffs = split_owa.generate_walk_diffs()\n",
    "ivat(owa_diffs,figure_size=(5,5))\n",
    "noisy_owa_diffs = noisy_split_owa.generate_walk_diffs()\n",
    "odm = ivat(noisy_owa_diffs,figure_size=(5,5),return_odm=True)"
   ]
  },
  {
   "cell_type": "code",
   "execution_count": 13,
   "metadata": {},
   "outputs": [
    {
     "name": "stdout",
     "output_type": "stream",
     "text": [
      "0.10694444444444444\n"
     ]
    }
   ],
   "source": [
    "#Read in the variables for a FM\n",
    "\n",
    "with open(\"airfoil.csv\",'r') as csvfile:\n",
    "    reader = csv.reader(csvfile)\n",
    "    fm_vars = []\n",
    "    for row in reader:\n",
    "        fm_vars.append(row[1])\n",
    "        \n",
    "with open(\"airfoil_noreg.csv\",'r') as csvfile:\n",
    "    reader = csv.reader(csvfile)\n",
    "    noreg_fm_vars = []\n",
    "    for row in reader:\n",
    "        noreg_fm_vars.append(row[1])\n",
    "        \n",
    "with open(\"airfoil_sort.csv\",'r') as csvfile:\n",
    "    reader = csv.reader(csvfile)\n",
    "    sorts = []\n",
    "    for row in reader:\n",
    "        introw = [int(x) for x in row]\n",
    "        sorts.append(introw)\n",
    "\n",
    "sorts = [tuple(sort) for sort in sorts]\n",
    "print(len(set(sorts)) / math.factorial(5))"
   ]
  },
  {
   "cell_type": "code",
   "execution_count": 18,
   "metadata": {},
   "outputs": [
    {
     "name": "stderr",
     "output_type": "stream",
     "text": [
      " 99%|█████████████████████████████████████████████████████████████████████████████▎| 119/120 [00:00<00:00, 1473.08it/s]\n",
      "100%|████████████████████████████████████████████████████████████████████████| 14400/14400 [00:00<00:00, 534765.13it/s]"
     ]
    },
    {
     "name": "stdout",
     "output_type": "stream",
     "text": [
      "starting step 2\n",
      "starting step 3\n"
     ]
    },
    {
     "name": "stderr",
     "output_type": "stream",
     "text": [
      "\n"
     ]
    },
    {
     "data": {
      "image/png": "[encoded data removed]",
      "text/plain": [
       "<Figure size 720x720 with 1 Axes>"
      ]
     },
     "metadata": {
      "needs_background": "light"
     },
     "output_type": "display_data"
    }
   ],
   "source": [
    "#Create choquet integral object, create FM\n",
    "airfoil_ch = ChoquetIntegral()\n",
    "airfoil_ch.N = 5\n",
    "airfoil_fm = {}\n",
    "for i,key in enumerate(airfoil_ch.get_keys_index()):\n",
    "    airfoil_fm[key] = float(fm_vars[i+1])\n",
    "    \n",
    "airfoil_ch.fm = airfoil_fm\n",
    "\n",
    "#Enumerate walks and generate array of LOSs\n",
    "airfoil_diffs = airfoil_ch.generate_walk_diffs()\n",
    "\n",
    "#dissimilarity matrix can be created by metrics.pairwise_distances(airfoil_diffs)\n",
    "# i.e. airfoil_diffs is shape (120,5), dissimilarity matrix would be (120,120)\n",
    "\n",
    "ivat(airfoil_diffs,euclidean=True)\n",
    "#the python ivat library we found sucks (not symmetric), so we have to export to matlab to generate plots\n",
    "\n"
   ]
  },
  {
   "cell_type": "code",
   "execution_count": 15,
   "metadata": {},
   "outputs": [],
   "source": [
    "airfoil_noreg = ChoquetIntegral()\n",
    "airfoil_noreg.N = 5\n",
    "airfoil_noreg.get_keys_index()\n",
    "airfoil_noreg_fm = {}\n",
    "for i,key in enumerate(airfoil_noreg.get_keys_index()):\n",
    "    airfoil_noreg_fm[key] = float(noreg_fm_vars[i+1])\n",
    "    \n",
    "airfoil_noreg.fm = airfoil_noreg_fm\n",
    "\n",
    "airfoil_noreg_diffs = airfoil_noreg.generate_walk_diffs()\n",
    "# ivat(airfoil_noreg_diffs,euclidean=True)\n",
    "\n"
   ]
  },
  {
   "cell_type": "code",
   "execution_count": 118,
   "metadata": {},
   "outputs": [],
   "source": [
    "\n",
    "def gen_seen_walk_diffs_2(seen_walks,ch):\n",
    "\n",
    "    n = len(seen_walks[0])\n",
    "    walk_diffs = np.ndarray((len(seen_walks),n),dtype=float)\n",
    "    for i,walk in enumerate(seen_walks):\n",
    "        walk = list(walk)\n",
    "        c_build = np.ndarray(n)\n",
    "        for j in range(len(walk)):\n",
    "            if j == 0:\n",
    "                c_build[j] = ch.fm[str(walk[0:1])]\n",
    "            else:\n",
    "                c_build[j] = ch.fm[str(np.sort(walk[0:j+1]))] - ch.fm[str(np.sort(walk[0:j]))]\n",
    "        walk_diffs[i] = c_build\n",
    "    return walk_diffs\n",
    "\n",
    "\n",
    "airfoil_seen_diss = metrics.pairwise_distances(gen_seen_walk_diffs_2(list(set(sorts)),airfoil_ch))\n",
    "airfoil_noreg_seen_diss = metrics.pairwise_distances(gen_seen_walk_diffs_2(list(set(sorts)),airfoil_noreg))\n",
    "\n",
    "airfoil_all_diss = metrics.pairwise_distances(airfoil_ch.generate_walk_diffs())\n",
    "airfoil_noreg_all_diss = metrics.pairwise_distances(airfoil_noreg.generate_walk_diffs())\n",
    "\n",
    "airfoil_mat = {}\n",
    "airfoil_mat[\"fish_seen_diss\"] = airfoil_seen_diss\n",
    "airfoil_mat[\"fish_noreg_seen_diss\"] = airfoil_noreg_seen_diss\n",
    "airfoil_mat[\"fish_all_diss\"] = airfoil_all_diss\n",
    "airfoil_mat[\"fish_noreg_all_diss\"] = airfoil_noreg_all_diss\n",
    "sio.savemat(\"fish.mat\",airfoil_mat)"
   ]
  }
 ],
 "metadata": {
  "kernelspec": {
   "display_name": "Python 3",
   "language": "python",
   "name": "python3"
  },
  "language_info": {
   "codemirror_mode": {
    "name": "ipython",
    "version": 3
   },
   "file_extension": ".py",
   "mimetype": "text/x-python",
   "name": "python",
   "nbconvert_exporter": "python",
   "pygments_lexer": "ipython3",
   "version": "3.8.2"
  }
 },
 "nbformat": 4,
 "nbformat_minor": 4
}
