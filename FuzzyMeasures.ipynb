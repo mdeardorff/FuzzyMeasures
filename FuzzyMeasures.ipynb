{
 "cells": [
  {
   "cell_type": "code",
   "execution_count": 231,
   "metadata": {},
   "outputs": [],
   "source": [
    "from choquet_integral import *\n",
    "import numpy as np\n",
    "import itertools\n",
    "import math\n",
    "import inspect\n",
    "import matplotlib.pyplot as plt\n",
    "import csv\n",
    "import sklearn.metrics as metrics"
   ]
  },
  {
   "cell_type": "code",
   "execution_count": 116,
   "metadata": {},
   "outputs": [],
   "source": [
    "from sklearn import datasets\n",
    "from pyclustertend import vat, ivat\n",
    "from sklearn.preprocessing import scale"
   ]
  },
  {
   "cell_type": "code",
   "execution_count": 262,
   "metadata": {},
   "outputs": [
    {
     "name": "stdout",
     "output_type": "stream",
     "text": [
      "Number Inputs :  4 ; Number Samples :  25\n",
      "     pcost       dcost       gap    pres   dres\n",
      " 0: -1.7801e+01 -2.5816e+01  6e+01  6e+00  1e+00\n",
      " 1: -1.6937e+01 -2.4288e+01  1e+01  5e-01  9e-02\n",
      " 2: -1.7171e+01 -1.9140e+01  2e+00  1e-01  2e-02\n",
      " 3: -1.7781e+01 -1.8309e+01  5e-01  1e-03  2e-04\n",
      " 4: -1.7937e+01 -1.8009e+01  7e-02  1e-05  2e-06\n",
      " 5: -1.7967e+01 -1.7978e+01  1e-02  1e-07  2e-08\n",
      " 6: -1.7971e+01 -1.7973e+01  2e-03  1e-09  2e-10\n",
      " 7: -1.7972e+01 -1.7972e+01  2e-04  1e-11  2e-12\n",
      " 8: -1.7972e+01 -1.7972e+01  4e-05  1e-13  1e-12\n",
      " 9: -1.7972e+01 -1.7972e+01  6e-06  1e-15  3e-16\n",
      "Optimal solution found.\n"
     ]
    },
    {
     "data": {
      "text/plain": [
       "<choquet_integral.ChoquetIntegral at 0x2bd6717c280>"
      ]
     },
     "execution_count": 262,
     "metadata": {},
     "output_type": "execute_result"
    }
   ],
   "source": [
    "chi = ChoquetIntegral()\n",
    "\n",
    "data = np.random.rand(4, 25)\n",
    "labels = np.amax(data, 0)\n",
    "# data2 = data[::-1,:]\n",
    "# labels2 = np.amin(data2,0)\n",
    "\n",
    "# data = np.concatenate((data,data2),axis=1)\n",
    "# labels = np.concatenate((labels,labels2))\n",
    "\n",
    "# train the chi via quadratic program \n",
    "chi.train_chi(data, labels)\n",
    "\n",
    "# print out the learned chi variables. (in this case, all 1's) \n"
   ]
  },
  {
   "cell_type": "code",
   "execution_count": 207,
   "metadata": {},
   "outputs": [
    {
     "name": "stdout",
     "output_type": "stream",
     "text": [
      "[0.24867723 0.52339379 0.72017568 0.65452553]\n",
      "[0.65452553 0.72017568 0.52339379 0.24867723]\n"
     ]
    }
   ],
   "source": [
    "print(data[:,0])\n",
    "print(data[:,25])"
   ]
  },
  {
   "cell_type": "code",
   "execution_count": 263,
   "metadata": {},
   "outputs": [],
   "source": [
    "n = 4\n",
    "initial = []\n",
    "for i in range(n):\n",
    "    initial.append(i+1)\n",
    "    \n",
    "a = itertools.permutations(initial,4)\n",
    "b = np.ndarray((math.factorial(n),n),dtype=int)\n",
    "c = np.ndarray((math.factorial(n),n),dtype=float)\n",
    "for i,val in enumerate(a):\n",
    "    b[i] = np.asarray(val)\n",
    "    \n",
    "    c_build = np.ndarray(n)\n",
    "    for j in range(len(b[i])):\n",
    "        if j == 0:\n",
    "            c_build[j] = chi.fm[str(b[i][0:1])]\n",
    "        else:\n",
    "            c_build[j] = (chi.fm[str(np.sort(b[i][0:j+1]))]) - (chi.fm[str(np.sort(b[i][0:j]))])\n",
    "\n",
    "    c[i] = c_build"
   ]
  },
  {
   "cell_type": "code",
   "execution_count": 264,
   "metadata": {},
   "outputs": [
    {
     "name": "stdout",
     "output_type": "stream",
     "text": [
      "[9.98785074e-01 9.53800512e-04 2.22669031e-04 3.84567932e-05]\n",
      "[9.98785074e-01 9.53800512e-04 2.10165788e-04 5.09600361e-05]\n",
      "[9.98785074e-01 5.11524306e-04 6.64945237e-04 3.84567932e-05]\n",
      "[9.98785074e-01 5.11524306e-04 6.48569222e-04 5.48328082e-05]\n",
      "[9.98785074e-01 6.64091036e-04 4.99875265e-04 5.09600361e-05]\n",
      "[9.98785074e-01 6.64091036e-04 4.96002493e-04 5.48328082e-05]\n",
      "[9.98790861e-01 9.48012948e-04 2.22669031e-04 3.84567932e-05]\n",
      "[9.98790861e-01 9.48012948e-04 2.10165788e-04 5.09600361e-05]\n",
      "[9.98790861e-01 7.87284086e-04 3.83397893e-04 3.84567932e-05]\n",
      "[9.98790861e-01 7.87284086e-04 3.84857601e-04 3.69970853e-05]\n",
      "[9.98790861e-01 8.56682994e-04 3.01495742e-04 5.09600361e-05]\n",
      "[9.98790861e-01 8.56682994e-04 3.15458693e-04 3.69970853e-05]\n",
      "[9.98188643e-01 1.10795498e-03 6.64945237e-04 3.84567932e-05]\n",
      "[9.98188643e-01 1.10795498e-03 6.48569222e-04 5.48328082e-05]\n",
      "[9.98188643e-01 1.38950233e-03 3.83397893e-04 3.84567932e-05]\n",
      "[9.98188643e-01 1.38950233e-03 3.84857601e-04 3.69970853e-05]\n",
      "[9.98188643e-01 1.45794209e-03 2.98582117e-04 5.48328082e-05]\n",
      "[9.98188643e-01 1.45794209e-03 3.16417839e-04 3.69970853e-05]\n",
      "[9.98994152e-01 4.55012708e-04 4.99875265e-04 5.09600361e-05]\n",
      "[9.98994152e-01 4.55012708e-04 4.96002493e-04 5.48328082e-05]\n",
      "[9.98994152e-01 6.53392230e-04 3.01495742e-04 5.09600361e-05]\n",
      "[9.98994152e-01 6.53392230e-04 3.15458693e-04 3.69970853e-05]\n",
      "[9.98994152e-01 6.52433084e-04 2.98582117e-04 5.48328082e-05]\n",
      "[9.98994152e-01 6.52433084e-04 3.16417839e-04 3.69970853e-05]\n"
     ]
    },
    {
     "data": {
      "image/png": "[encoded data removed]",
      "text/plain": [
       "<Figure size 720x720 with 1 Axes>"
      ]
     },
     "metadata": {
      "needs_background": "light"
     },
     "output_type": "display_data"
    },
    {
     "data": {
      "image/png": "[encoded data removed]",
      "text/plain": [
       "<Figure size 720x720 with 1 Axes>"
      ]
     },
     "metadata": {
      "needs_background": "light"
     },
     "output_type": "display_data"
    }
   ],
   "source": [
    "C = c\n",
    "b = vat(C, return_ODM=True)\n",
    "a = ivat(C, return_D_prim=True)\n",
    "\n",
    "\n",
    "\n",
    "for i in range(len(c)):\n",
    "    print(C[i])"
   ]
  },
  {
   "cell_type": "code",
   "execution_count": 265,
   "metadata": {},
   "outputs": [
    {
     "name": "stdout",
     "output_type": "stream",
     "text": [
      "0.0013020161416885656\n"
     ]
    },
    {
     "data": {
      "text/plain": [
       "0.9989941519916303"
      ]
     },
     "execution_count": 265,
     "metadata": {},
     "output_type": "execute_result"
    }
   ],
   "source": [
    "maxdiff = 0\n",
    "for row in metrics.pairwise_distances(c):\n",
    "    maxdiff = max(max(row),maxdiff)\n",
    "    \n",
    "print(maxdiff)\n",
    "\n",
    "np.max(c)\n",
    "\n",
    "# metrics.pairwise_distances(b,metric='euclidean')"
   ]
  },
  {
   "cell_type": "code",
   "execution_count": 266,
   "metadata": {},
   "outputs": [],
   "source": [
    "with open('odm.csv', 'w') as csvfile:\n",
    "    writer = csv.writer(csvfile, delimiter=',')\n",
    "    for row in b:\n",
    "        writer.writerow(row)"
   ]
  }
 ],
 "metadata": {
  "kernelspec": {
   "display_name": "Python 3",
   "language": "python",
   "name": "python3"
  },
  "language_info": {
   "codemirror_mode": {
    "name": "ipython",
    "version": 3
   },
   "file_extension": ".py",
   "mimetype": "text/x-python",
   "name": "python",
   "nbconvert_exporter": "python",
   "pygments_lexer": "ipython3",
   "version": "3.8.2"
  }
 },
 "nbformat": 4,
 "nbformat_minor": 4
}
