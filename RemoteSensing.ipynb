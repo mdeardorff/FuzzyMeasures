{
 "cells": [
  {
   "cell_type": "code",
   "execution_count": 17,
   "metadata": {},
   "outputs": [],
   "source": [
    "from choquet_integral import *\n",
    "import numpy as np\n",
    "import itertools\n",
    "import math\n",
    "import inspect\n",
    "import matplotlib.pyplot as plt\n",
    "import csv\n",
    "import sklearn.metrics as metrics\n",
    "from sklearn import datasets\n",
    "from sklearn.preprocessing import scale\n",
    "import pandas\n",
    "# from pyclustertend import vat, ivat\n",
    "import matplotlib.pyplot as plt\n",
    "from emd_clustertend import *\n",
    "import scipy.io as sio\n",
    "from scipy.spatial import distance"
   ]
  },
  {
   "cell_type": "code",
   "execution_count": 19,
   "metadata": {},
   "outputs": [],
   "source": [
    "def vat(dm):\n",
    "    vat_res = np.zeros_like(dm)\n",
    "    indices = np.zeros(vat_res.shape, dtype=(int,2))\n",
    "    K = set(np.arange(0,dm.shape[0],1))\n",
    "    P = np.zeros(dm.shape[0],dtype=int)\n",
    "    I = set()\n",
    "    J = set()\n",
    "\n",
    "    (i,j) = np.unravel_index(dm.argmax(), dm.shape)\n",
    "    \n",
    "    P[0] = i\n",
    "    I.add(i)\n",
    "    J = K - I\n",
    "\n",
    "    for r in range(1,dm.shape[0]):\n",
    "        temp_matrix = np.zeros((len(I),len(J)))\n",
    "        matrix_indices = np.zeros(temp_matrix.shape,dtype=(int,2))\n",
    "        \n",
    "        for s in range(len(I)):\n",
    "            for t in range(len(J)):\n",
    "                temp_matrix[s,t] = dm[list(I)[s],list(J)[t]]\n",
    "                matrix_indices[s,t] = (list(I)[s], list(J)[t])\n",
    "                \n",
    "\n",
    "        (i,j) = np.unravel_index(temp_matrix.argmin(), temp_matrix.shape)\n",
    "        (i,j) = matrix_indices[i,j]\n",
    "        \n",
    "        P[r] = j\n",
    "        I.add(j)\n",
    "        J = J - {j}\n",
    "        \n",
    "    for i in range(len(dm)):\n",
    "        for j in range(len(dm)):\n",
    "            vat_res[i,j] = dm[P[i],P[j]]\n",
    "            indices[i,j] = (P[i],P[j])\n",
    "                              \n",
    "        \n",
    "    return (vat_res, indices)\n",
    "\n",
    "def ivat(odm):\n",
    "    Dp = np.zeros_like(odm)\n",
    "    for r in range(1,odm.shape[0]):\n",
    "        j = np.argmin(odm[r,0:r])\n",
    "        Dp[r][j] = odm[r][j]\n",
    "        for m in range(0,r):\n",
    "            if m != j:\n",
    "                Dp[r][m] = max(odm[r][j],Dp[j][m])         \n",
    "                \n",
    "    for i in range(len(odm)):\n",
    "        for j in range(len(odm)):\n",
    "            if j >= i:\n",
    "                Dp[i][j] = Dp[j][i]\n",
    "    return Dp\n",
    "\n",
    "\n",
    "def pairwise_dissimilarity(X,euclidean=False):\n",
    "    pairwise = np.zeros((X.shape[0],X.shape[0]))\n",
    "    distance_matrix = gen_unit_distance_matrix(X.shape[1])\n",
    "    for i in range(X.shape[0]):\n",
    "        for j in range(X.shape[0]):\n",
    "            if i == j:\n",
    "                pairwise[i][j] = 0\n",
    "            else:\n",
    "                if euclidean:\n",
    "                    diff = distance.euclidean(X[i],X[j])\n",
    "                else:\n",
    "                    diff = pyemd.emd(X[i],X[j],distance_matrix)\n",
    "#                 diff = distance.euclidean(X[i],X[j])\n",
    "                pairwise[i][j]=diff\n",
    "    return pairwise"
   ]
  },
  {
   "cell_type": "code",
   "execution_count": 20,
   "metadata": {},
   "outputs": [],
   "source": [
    "# our integral\n",
    "chi = ChoquetIntegral()\n",
    "\n",
    "# load the training file \n",
    "# 02.txt: https://github.com/aminb99/remote-sensing-nn-datasets/blob/master/AID_4net_dataset/NNFold_1/Fold_1/test/02.txt\n",
    "# _02.txt: https://github.com/aminb99/remote-sensing-nn-datasets/blob/master/AID_dataset/NNFold_1/Fold_1/test/02.txt\n",
    "df = pandas.read_csv('02.txt')\n",
    "df\n",
    "\n",
    "# how many nets? \n",
    "n = 4 # 7"
   ]
  },
  {
   "cell_type": "code",
   "execution_count": 21,
   "metadata": {},
   "outputs": [],
   "source": [
    "# suck out labels and data\n",
    "training_labels = np.asarray( df.values )[:,n]\n",
    "training_data = np.asarray( df.values )[:,0:n]"
   ]
  },
  {
   "cell_type": "code",
   "execution_count": 22,
   "metadata": {},
   "outputs": [
    {
     "name": "stdout",
     "output_type": "stream",
     "text": [
      "(array([  0,   8,   9,  69,  76, 105, 138, 190, 200, 221, 227, 248, 342,\n",
      "       352, 383, 411, 442, 484, 612, 633, 780, 807, 876, 901, 912, 925,\n",
      "       950, 965, 971], dtype=int64),)\n"
     ]
    }
   ],
   "source": [
    "# for class ?, make this a binary learning problem\n",
    "locs = np.where(training_labels == 1)\n",
    "print(locs)\n",
    "labels = np.zeros(training_labels.shape)\n",
    "labels[locs] = 1"
   ]
  },
  {
   "cell_type": "code",
   "execution_count": 23,
   "metadata": {},
   "outputs": [
    {
     "name": "stdout",
     "output_type": "stream",
     "text": [
      "{'[1]': 0.007301042070360983, '[2]': 3.168038462656342e-05, '[3]': 0.0001580437632328804, '[4]': 0.004358436395386026, '[1 2]': 0.12177233024679085, '[1 3]': 0.4984426657599827, '[1 4]': 0.2860080931753677, '[2 3]': 0.0005748642723022515, '[2 4]': 0.99134681393906, '[3 4]': 0.9097324736104253, '[1 2 3]': 0.9940898513618791, '[1 2 4]': 0.9987471770458044, '[1 3 4]': 0.9956525757188976, '[2 3 4]': 0.9999609819692074, '[1 2 3 4]': 1.0}\n"
     ]
    }
   ],
   "source": [
    "# train the integral\n",
    "chi.train_chi(training_data.transpose(), labels)\n",
    "print(chi.fm)"
   ]
  },
  {
   "cell_type": "code",
   "execution_count": 7,
   "metadata": {},
   "outputs": [],
   "source": [
    "#distance matrix code from Matt\n",
    "initial = []\n",
    "for i in range(n):\n",
    "    initial.append(i+1)\n",
    "    \n",
    "a = itertools.permutations(initial,n)\n",
    "b = np.ndarray((math.factorial(n),n),dtype=int)\n",
    "c = np.ndarray((math.factorial(n),n),dtype=float)\n",
    "for i,val in enumerate(a):\n",
    "    b[i] = np.asarray(val)\n",
    "    \n",
    "    c_build = np.ndarray(n)\n",
    "    for j in range(len(b[i])):\n",
    "        if j == 0:\n",
    "            c_build[j] = chi.fm[str(b[i][0:1])]\n",
    "        else:\n",
    "            c_build[j] = (chi.fm[str(np.sort(b[i][0:j+1]))]) - (chi.fm[str(np.sort(b[i][0:j]))])\n",
    "\n",
    "    c[i] = c_build"
   ]
  },
  {
   "cell_type": "code",
   "execution_count": 57,
   "metadata": {},
   "outputs": [
    {
     "name": "stdout",
     "output_type": "stream",
     "text": [
      "0.5917976670624676 0.45797900973341427\n",
      "0.4241817677512918 0.32516761852486914\n"
     ]
    },
    {
     "data": {
      "image/png": "[encoded data removed]",
      "text/plain": [
       "<Figure size 432x288 with 1 Axes>"
      ]
     },
     "metadata": {
      "needs_background": "light"
     },
     "output_type": "display_data"
    },
    {
     "data": {
      "image/png": "[encoded data removed]",
      "text/plain": [
       "<Figure size 432x288 with 1 Axes>"
      ]
     },
     "metadata": {
      "needs_background": "light"
     },
     "output_type": "display_data"
    },
    {
     "data": {
      "image/png": "[encoded data removed]",
      "text/plain": [
       "<Figure size 432x288 with 1 Axes>"
      ]
     },
     "metadata": {
      "needs_background": "light"
     },
     "output_type": "display_data"
    },
    {
     "data": {
      "text/plain": [
       "<Figure size 432x288 with 0 Axes>"
      ]
     },
     "metadata": {},
     "output_type": "display_data"
    }
   ],
   "source": [
    "C = c\n",
    "# remote_dis = pairwise_dissimilarity(np.asarray(chi.generate_walk_diffs()),euclidean=True)\n",
    "# mat_dict = {}\n",
    "# mat_dict['remote_dis'] = remote_dis\n",
    "# sio.savemat(\"remote_mat.mat\",mat_dict)\n",
    "# (vat_img,indices) = vat(remote_dis)\n",
    "# plt.imshow(vat_img,cmap='gray')\n",
    "\n",
    "diss1 = pairwise_dissimilarity(np.asarray(chi.generate_walk_diffs()),euclidean=True)\n",
    "diss2 = pairwise_dissimilarity(np.asarray(chi.generate_walk_diffs()),euclidean=False)\n",
    "\n",
    "(vat_img1,indices1) = vat(diss1)\n",
    "(vat_img2,indices2) = vat(diss2)\n",
    "\n",
    "\n",
    "\n",
    "max_val = np.max([diss1,diss2])\n",
    "plt.figure()\n",
    "plt.imshow(vat_img1/max_val)\n",
    "plt.figure()\n",
    "plt.imshow(np.rot90(np.rot90(vat_img2))/max_val)\n",
    "plt.figure()\n",
    "plt.imshow(vat_img1 - np.rot90(np.rot90(vat_img2)))\n",
    "plt.figure()\n",
    "print(np.mean(diss1),np.std(diss1))\n",
    "print(np.mean(diss2),np.std(diss2))\n",
    "# ivat_img = ivat(vat_img)\n",
    "# plt.imshow(ivat_img,cmap='gray')\n"
   ]
  },
  {
   "cell_type": "code",
   "execution_count": null,
   "metadata": {},
   "outputs": [],
   "source": []
  },
  {
   "cell_type": "code",
   "execution_count": null,
   "metadata": {},
   "outputs": [],
   "source": [
    "# I want to plot it\n",
    "\n",
    "#vat\n",
    "plt.figure()\n",
    "color_map = plt.imshow(a)\n",
    "color_map.set_cmap(\"gray\")\n",
    "#plt.colorbar()\n",
    "\n",
    "#ivat - dang, an't as straight forward due to transform (I will have to think about!)\n",
    "plt.figure()\n",
    "color_map = plt.imshow(a,vmin=0,vmax=1)\n",
    "color_map.set_cmap(\"gray\")"
   ]
  },
  {
   "cell_type": "code",
   "execution_count": null,
   "metadata": {},
   "outputs": [],
   "source": [
    "# find the unique sorts\n",
    "sortorder = np.argsort( (-1) * training_data )\n",
    "print(sortorder)\n",
    "unique_rows = np.unique(sortorder, axis=0)\n",
    "print(unique_rows)\n",
    "Nunique = unique_rows.shape[0]\n",
    "print(Nunique)"
   ]
  },
  {
   "cell_type": "code",
   "execution_count": null,
   "metadata": {},
   "outputs": [],
   "source": [
    "#distance matrix on just unique sorts\n",
    "d = np.ndarray((Nunique,n),dtype=float)\n",
    "for i in range(Nunique):\n",
    "    b = np.asarray(unique_rows[i]) + 1\n",
    "    c_build = np.zeros(n)\n",
    "    for j in range(n):\n",
    "        if j == 0:\n",
    "            c_build[j] = chi.fm[str(b[0:1])]\n",
    "        else:\n",
    "            c_build[j] = (chi.fm[str(np.sort(b[0:j+1]))]) - (chi.fm[str(np.sort(b[0:j]))])\n",
    "    d[i] = c_build"
   ]
  },
  {
   "cell_type": "code",
   "execution_count": null,
   "metadata": {},
   "outputs": [],
   "source": [
    "# what are these operators? plot them out\n",
    "np.set_printoptions(formatter={'float': '{: 0.9f}'.format})\n",
    "for i in range(Nunique):\n",
    "    print(d[i])"
   ]
  },
  {
   "cell_type": "code",
   "execution_count": null,
   "metadata": {},
   "outputs": [],
   "source": [
    "#dissimilarity matrix, i want to see it unsorted\n",
    "pwd = metrics.pairwise_distances(d,metric='euclidean')\n",
    "color_map = plt.imshow(pwd)\n",
    "color_map.set_cmap(\"gray\")\n",
    "plt.colorbar()"
   ]
  },
  {
   "cell_type": "code",
   "execution_count": null,
   "metadata": {},
   "outputs": [],
   "source": [
    "remote_dis = emd_pairwise_dissimilarity(d)\n",
    "mat_dict = {}\n",
    "mat_dict['remote_dis'] = remote_dis\n",
    "sio.savemat(\"remote_mat.mat\",mat_dict)"
   ]
  },
  {
   "cell_type": "code",
   "execution_count": null,
   "metadata": {},
   "outputs": [],
   "source": [
    "# vat and ivat on just the seen walks\n",
    "C = d\n",
    "b = vat(C, return_ODM=True)\n",
    "a = ivat(C, return_D_prim=True)"
   ]
  },
  {
   "cell_type": "code",
   "execution_count": null,
   "metadata": {},
   "outputs": [],
   "source": [
    "print(d)\n",
    "# naive extraction\n",
    "ListOfOps = np.asarray([0])\n",
    "Thresh = 0.1\n",
    "for i in range(1,Nunique):\n",
    "    dist = np.zeros( ListOfOps.shape[0] )\n",
    "    for j in range(ListOfOps.shape[0]):\n",
    "        dist[j] = np.sqrt(np.sum(np.power(d[i]-d[ListOfOps[j]],2.0)))\n",
    "    # new...?\n",
    "    # look at the thing that its closest to, is it greater than some threshold?\n",
    "    if( np.amin(dist) > Thresh ):\n",
    "        ListOfOps = np.append(ListOfOps,i)\n",
    "# here are our operators ...\n",
    "print(ListOfOps)\n",
    "print(d[ListOfOps])"
   ]
  }
 ],
 "metadata": {
  "kernelspec": {
   "display_name": "Python 3",
   "language": "python",
   "name": "python3"
  },
  "language_info": {
   "codemirror_mode": {
    "name": "ipython",
    "version": 3
   },
   "file_extension": ".py",
   "mimetype": "text/x-python",
   "name": "python",
   "nbconvert_exporter": "python",
   "pygments_lexer": "ipython3",
   "version": "3.8.2"
  }
 },
 "nbformat": 4,
 "nbformat_minor": 2
}
