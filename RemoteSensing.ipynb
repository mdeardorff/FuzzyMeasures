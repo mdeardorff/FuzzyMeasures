{
 "cells": [
  {
   "cell_type": "code",
   "execution_count": null,
   "metadata": {},
   "outputs": [],
   "source": [
    "from choquet_integral import *\n",
    "import numpy as np\n",
    "import itertools\n",
    "import math\n",
    "import inspect\n",
    "import matplotlib.pyplot as plt\n",
    "import csv\n",
    "import sklearn.metrics as metrics\n",
    "from sklearn import datasets\n",
    "from sklearn.preprocessing import scale\n",
    "import pandas\n",
    "from pyclustertend import vat, ivat\n",
    "import matplotlib.pyplot as plt"
   ]
  },
  {
   "cell_type": "code",
   "execution_count": null,
   "metadata": {},
   "outputs": [],
   "source": [
    "# our integral\n",
    "chi = ChoquetIntegral()\n",
    "\n",
    "# load the training file \n",
    "# 02.txt: https://github.com/aminb99/remote-sensing-nn-datasets/blob/master/AID_4net_dataset/NNFold_1/Fold_1/test/02.txt\n",
    "# _02.txt: https://github.com/aminb99/remote-sensing-nn-datasets/blob/master/AID_dataset/NNFold_1/Fold_1/test/02.txt\n",
    "df = pandas.read_csv('02.txt')\n",
    "df\n",
    "\n",
    "# how many nets? \n",
    "n = 4 # 7"
   ]
  },
  {
   "cell_type": "code",
   "execution_count": null,
   "metadata": {},
   "outputs": [],
   "source": [
    "# suck out labels and data\n",
    "training_labels = np.asarray( df.values )[:,n]\n",
    "training_data = np.asarray( df.values )[:,0:n]"
   ]
  },
  {
   "cell_type": "code",
   "execution_count": null,
   "metadata": {},
   "outputs": [],
   "source": [
    "# for class ?, make this a binary learning problem\n",
    "locs = np.where(training_labels == 1)\n",
    "print(locs)\n",
    "labels = np.zeros(training_labels.shape)\n",
    "labels[locs] = 1"
   ]
  },
  {
   "cell_type": "code",
   "execution_count": null,
   "metadata": {},
   "outputs": [],
   "source": [
    "# train the integral\n",
    "chi.train_chi(training_data.transpose(), labels)\n",
    "print(chi.fm)"
   ]
  },
  {
   "cell_type": "code",
   "execution_count": null,
   "metadata": {},
   "outputs": [],
   "source": [
    "#distance matrix code from Matt\n",
    "initial = []\n",
    "for i in range(n):\n",
    "    initial.append(i+1)\n",
    "    \n",
    "a = itertools.permutations(initial,n)\n",
    "b = np.ndarray((math.factorial(n),n),dtype=int)\n",
    "c = np.ndarray((math.factorial(n),n),dtype=float)\n",
    "for i,val in enumerate(a):\n",
    "    b[i] = np.asarray(val)\n",
    "    \n",
    "    c_build = np.ndarray(n)\n",
    "    for j in range(len(b[i])):\n",
    "        if j == 0:\n",
    "            c_build[j] = chi.fm[str(b[i][0:1])]\n",
    "        else:\n",
    "            c_build[j] = (chi.fm[str(np.sort(b[i][0:j+1]))]) - (chi.fm[str(np.sort(b[i][0:j]))])\n",
    "\n",
    "    c[i] = c_build"
   ]
  },
  {
   "cell_type": "code",
   "execution_count": null,
   "metadata": {},
   "outputs": [],
   "source": [
    "C = c\n",
    "b = vat(C, return_ODM=True)\n",
    "a = ivat(C, return_D_prim=True)"
   ]
  },
  {
   "cell_type": "code",
   "execution_count": null,
   "metadata": {},
   "outputs": [],
   "source": [
    "# I want to plot it\n",
    "\n",
    "#vat\n",
    "plt.figure()\n",
    "color_map = plt.imshow(a)\n",
    "color_map.set_cmap(\"gray\")\n",
    "#plt.colorbar()\n",
    "\n",
    "#ivat - dang, an't as straight forward due to transform (I will have to think about!)\n",
    "plt.figure()\n",
    "color_map = plt.imshow(a,vmin=0,vmax=1)\n",
    "color_map.set_cmap(\"gray\")"
   ]
  },
  {
   "cell_type": "code",
   "execution_count": null,
   "metadata": {},
   "outputs": [],
   "source": [
    "# find the unique sorts\n",
    "sortorder = np.argsort( (-1) * training_data )\n",
    "print(sortorder)\n",
    "unique_rows = np.unique(sortorder, axis=0)\n",
    "print(unique_rows)\n",
    "Nunique = unique_rows.shape[0]\n",
    "print(Nunique)"
   ]
  },
  {
   "cell_type": "code",
   "execution_count": null,
   "metadata": {},
   "outputs": [],
   "source": [
    "#distance matrix on just unique sorts\n",
    "d = np.ndarray((Nunique,n),dtype=float)\n",
    "for i in range(Nunique):\n",
    "    b = np.asarray(unique_rows[i]) + 1\n",
    "    c_build = np.zeros(n)\n",
    "    for j in range(n):\n",
    "        if j == 0:\n",
    "            c_build[j] = chi.fm[str(b[0:1])]\n",
    "        else:\n",
    "            c_build[j] = (chi.fm[str(np.sort(b[0:j+1]))]) - (chi.fm[str(np.sort(b[0:j]))])\n",
    "    d[i] = c_build"
   ]
  },
  {
   "cell_type": "code",
   "execution_count": null,
   "metadata": {},
   "outputs": [],
   "source": [
    "# what are these operators? plot them out\n",
    "np.set_printoptions(formatter={'float': '{: 0.9f}'.format})\n",
    "for i in range(Nunique):\n",
    "    print(d[i])"
   ]
  },
  {
   "cell_type": "code",
   "execution_count": null,
   "metadata": {},
   "outputs": [],
   "source": [
    "#dissimilarity matrix, i want to see it unsorted\n",
    "pwd = metrics.pairwise_distances(d,metric='euclidean')\n",
    "color_map = plt.imshow(pwd)\n",
    "color_map.set_cmap(\"gray\")\n",
    "plt.colorbar()"
   ]
  },
  {
   "cell_type": "code",
   "execution_count": null,
   "metadata": {},
   "outputs": [],
   "source": [
    "# vat and ivat on just the seen walks\n",
    "C = d\n",
    "b = vat(C, return_ODM=True)\n",
    "a = ivat(C, return_D_prim=True)"
   ]
  },
  {
   "cell_type": "code",
   "execution_count": null,
   "metadata": {},
   "outputs": [],
   "source": [
    "print(d)\n",
    "# naive extraction\n",
    "ListOfOps = np.asarray([0])\n",
    "Thresh = 0.1\n",
    "for i in range(1,Nunique):\n",
    "    dist = np.zeros( ListOfOps.shape[0] )\n",
    "    for j in range(ListOfOps.shape[0]):\n",
    "        dist[j] = np.sqrt(np.sum(np.power(d[i]-d[ListOfOps[j]],2.0)))\n",
    "    # new...?\n",
    "    # look at the thing that its closest to, is it greater than some threshold?\n",
    "    if( np.amin(dist) > Thresh ):\n",
    "        ListOfOps = np.append(ListOfOps,i)\n",
    "# here are our operators ...\n",
    "print(ListOfOps)\n",
    "print(d[ListOfOps])"
   ]
  }
 ],
 "metadata": {
  "kernelspec": {
   "display_name": "Python 3",
   "language": "python",
   "name": "python3"
  },
  "language_info": {
   "codemirror_mode": {
    "name": "ipython",
    "version": 3
   },
   "file_extension": ".py",
   "mimetype": "text/x-python",
   "name": "python",
   "nbconvert_exporter": "python",
   "pygments_lexer": "ipython3",
   "version": "3.7.3"
  }
 },
 "nbformat": 4,
 "nbformat_minor": 2
}
